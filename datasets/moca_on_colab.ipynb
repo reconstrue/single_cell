{
  "nbformat": 4,
  "nbformat_minor": 0,
  "metadata": {
    "colab": {
      "name": "moca_data_probing.ipynb",
      "version": "0.3.2",
      "provenance": [],
      "collapsed_sections": []
    },
    "kernelspec": {
      "name": "python3",
      "display_name": "Python 3"
    }
  },
  "cells": [
    {
      "cell_type": "markdown",
      "metadata": {
        "id": "VCcShh_uzi1h",
        "colab_type": "text"
      },
      "source": [
        "# MOCA data probing\n",
        "\n",
        "This notebook, [moca_data_probing.ipynb](https://github.com/JohnTigue/colab-utils/tree/master/probings), explores an interesting dataset o fabout 1.3 million cells processed via snRNA-seq.\n",
        "\n",
        "\n",
        "* Website: [Mouse Organogenesis Cell Atlas (MOCA)](http://atlas.gs.washington.edu/mouse-rna/)\n",
        "* [2 million-cell experiment traces how a mammal grows, cell by single cell\n",
        "](https://brotmanbaty.org/2-million-cell-experiment-traces-how-a-mammal-grows-cell-by-single-cell/): a one pager technically accurate press released, which introduced the paper concomitant with its publication in Nature. \n",
        "* [Paper publishing in Nature](https://www.nature.com/articles/s41586-019-0969-x#author-information)\n",
        "* [Preprint](http://cole-trapnell-lab.github.io/pdfs/papers/cao-spielmann-mouse-emb.pdf) [TODO: maybe that's final? yet simply not on nature.com i.e. free-free]\n",
        "* [Data](https://oncoscape.v3.sttrcancer.org/atlas.gs.washington.edu.mouse.rna/landing)\n",
        "\n",
        "\n",
        "The University of Washington hosts a data portal, [Seattle Organismal Molecular Atlases (SOMA)](http://atlas.gs.washington.edu/hub/). First dataset they talk about there is: [Gene expression in mouse embryo](https://oncoscape.v3.sttrcancer.org/atlas.gs.washington.edu.mouse.rna/landing) which is another way of getting to the MOCA website, but this one has download links that actually work, if you're trying to get the data to mess with.\n",
        "\n",
        "https://oncoscape.v3.sttrcancer.org/atlas.gs.washington.edu.mouse.rna/downloads\n",
        "\n",
        "https://www.ncbi.nlm.nih.gov/geo/query/acc.cgi?acc=GSE119945\n",
        "\n",
        "\n",
        "\n",
        "\n",
        "[MOCA data viewed in BioTuring Browser](https://www.youtube.com/watch?v=If3i2Gqtxas)\n",
        "\n",
        "\n",
        "https://github.com/datacarpentry/r-raster-vector-geospatial/issues/138#issue-313014296\n",
        "\n",
        "\n",
        "### 2 million cells\n",
        "https://brotmanbaty.org/2-million-cell-experiment-traces-how-a-mammal-grows-cell-by-single-cell/\n",
        "\n",
        "\n",
        "\n",
        "### 2018 work with ~100K cells \tCusanovich DA\n",
        "* https://www.ncbi.nlm.nih.gov/geo/query/acc.cgi?acc=GSE111586   \n",
        "* [A Single-Cell Atlas of In Vivo Mammalian Chromatin\n",
        "Accessibility](https://cole-trapnell-lab.github.io/pdfs/papers/cusanovich-mouse-atac.pdf) in Cell\n"
      ]
    },
    {
      "cell_type": "code",
      "metadata": {
        "id": "omFa9K2yLbZg",
        "colab_type": "code",
        "colab": {}
      },
      "source": [
        ""
      ],
      "execution_count": 0,
      "outputs": []
    }
  ]
}