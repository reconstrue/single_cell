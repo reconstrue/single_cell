{
  "nbformat": 4,
  "nbformat_minor": 0,
  "metadata": {
    "colab": {
      "name": "moca_on_colab.ipynb",
      "provenance": [],
      "collapsed_sections": [],
      "toc_visible": true
    },
    "kernelspec": {
      "name": "python3",
      "display_name": "Python 3"
    }
  },
  "cells": [
    {
      "cell_type": "markdown",
      "metadata": {
        "id": "a4eVHf3GSEwx",
        "colab_type": "text"
      },
      "source": [
        "# MOCA dataset analysis on Colab\n",
        "\n",
        "<img src=\"https://oncoscape.v3.sttrcancer.org/atlas.gs.washington.edu.mouse.rna/assets/marquee-mouse.jpg\" />\n",
        "Image from Fred Hutch's <a href=\"https://oncoscape.v3.sttrcancer.org/atlas.gs.washington.edu.mouse.rna/landing\">MOCA home page</a>"
      ]
    },
    {
      "cell_type": "markdown",
      "metadata": {
        "id": "VCcShh_uzi1h",
        "colab_type": "text"
      },
      "source": [
        "## Introduction\n",
        "This notebook, [moca_on_colab.ipynb](https://github.com/reconstrue/single_cell_on_colab/blob/master/datasets/moca_on_colab.ipynb), explores Fred Hutch's mouse organogenesis cell atlas (MOCA), a snRNA-seq dataset containing about 1.3 million cells.\n"
      ]
    },
    {
      "cell_type": "markdown",
      "metadata": {
        "id": "od5Ft9BoRSS1",
        "colab_type": "text"
      },
      "source": [
        "## MOCA dataset web links\n",
        "- Website: [Mouse Organogenesis Cell Atlas (MOCA)](http://atlas.gs.washington.edu/mouse-rna/)\n",
        "-A 4 minute video of [MOCA data viewed in BioTuring Browser](https://www.youtube.com/watch?v=If3i2Gqtxas)\n",
        "- [2 million-cell experiment traces how a mammal grows, cell by single cell\n",
        "](https://brotmanbaty.org/2-million-cell-experiment-traces-how-a-mammal-grows-cell-by-single-cell/): a technically accurate press released, which introduced the paper concomitant with its publication in Nature. \n",
        "- [Paper published in Nature](https://www.nature.com/articles/s41586-019-0969-x#author-information)\n",
        "- [Preprint](http://cole-trapnell-lab.github.io/pdfs/papers/cao-spielmann-mouse-emb.pdf) \n"
      ]
    },
    {
      "cell_type": "markdown",
      "metadata": {
        "id": "lVeNadTqUwtd",
        "colab_type": "text"
      },
      "source": [
        "## Download MOCA dataset \n",
        "\n",
        "First step is to download the dataset to the Colab VM's file system.\n",
        "- [Data on MOCA site](https://oncoscape.v3.sttrcancer.org/atlas.gs.washington.edu.mouse.rna/landing)\n",
        "\n",
        "\n",
        "There are multiple files made available for download. One of them is `cds_cleaned_samples_100k.RDS` which is descibed as:\n",
        ">single cell cds data with 100,000 sampled cells (340M)\n",
        ">For testing purpose, this 100,000 sampled cells from the filtered data set above"
      ]
    },
    {
      "cell_type": "code",
      "metadata": {
        "id": "omFa9K2yLbZg",
        "colab_type": "code",
        "colab": {
          "base_uri": "https://localhost:8080/",
          "height": 34
        },
        "outputId": "4ca5ab75-e213-4cbd-f942-f122a32a5bf3"
      },
      "source": [
        "# download the 100K file\n",
        "import urllib.request    \n",
        "\n",
        "hundred_k_rds_url = \"https://urldefense.proofpoint.com/v2/url?u=https-3A__shendure-2Dweb.gs.washington.edu_content_members_cao1025_public_mouse-5Fembryo-5Fatlas_cds-5Fcleaned-5Fsampled-5F100k.RDS&d=DwMFaQ&c=eRAMFD45gAfqt84VtBcfhQ&r=4os15r5D3L-b7X7xAf5xTq8w511N9-T9roRgpZ8Jnzc&m=Ku3t8tpaR3GmIGYtwgQKChz2hxlcoRwRxPEF8BjwAlQ&s=UBhFmg42nWvqkH83ii3niy_uqgWM1-DjGe7yUsJePVw&e=\"\n",
        "dest_filename = \"/content/moca_cds_cleaned_sampled_100k.RDS\"\n",
        "parked_filename, _ = urllib.request.urlretrieve(hundred_k_rds_url, dest_filename)\n",
        "print(\"Downloaded to: %s\" % parked_filename)"
      ],
      "execution_count": 9,
      "outputs": [
        {
          "output_type": "stream",
          "text": [
            "Downloaded to: /content/moca_cds_cleaned_sampled_100k.RDS\n"
          ],
          "name": "stdout"
        }
      ]
    },
    {
      "cell_type": "code",
      "metadata": {
        "id": "Z0PZFjFs2Z-3",
        "colab_type": "code",
        "colab": {
          "base_uri": "https://localhost:8080/",
          "height": 68
        },
        "outputId": "a2125cce-fbc6-4e2a-8d19-7059edeb77e9"
      },
      "source": [
        "!ls -lh"
      ],
      "execution_count": 11,
      "outputs": [
        {
          "output_type": "stream",
          "text": [
            "total 339M\n",
            "-rw-r--r-- 1 root root 339M Nov 30 10:56 moca_cds_cleaned_sampled_100k.RDS\n",
            "drwxr-xr-x 1 root root 4.0K Nov 21 16:30 sample_data\n"
          ],
          "name": "stdout"
        }
      ]
    },
    {
      "cell_type": "code",
      "metadata": {
        "id": "-43eSAyj6hbw",
        "colab_type": "code",
        "colab": {}
      },
      "source": [
        "with open(parked_filename, \"rb\") as f:\n",
        "  read_data = f.read()"
      ],
      "execution_count": 0,
      "outputs": []
    },
    {
      "cell_type": "markdown",
      "metadata": {
        "id": "ptgyHI0PUMb_",
        "colab_type": "text"
      },
      "source": [
        "## Python meets RDS file format\n",
        "\n",
        "The data is distributed as .Rds file, which is an `R`-world format. There is a Python package, `pyreader`, which can rear such files. Via [stackoverflow.com](https://stackoverflow.com/a/53956614)\n"
      ]
    },
    {
      "cell_type": "markdown",
      "metadata": {
        "id": "P8J0ZQcExNQM",
        "colab_type": "text"
      },
      "source": [
        "### Take 1: pyreadr"
      ]
    },
    {
      "cell_type": "code",
      "metadata": {
        "id": "swEPMh_iU8RG",
        "colab_type": "code",
        "colab": {
          "base_uri": "https://localhost:8080/",
          "height": 170
        },
        "outputId": "542567ba-3110-4318-9ae9-955c1f6911e5"
      },
      "source": [
        "#!locate zlib\n",
        "!apt-get install zlib1g-dev"
      ],
      "execution_count": 27,
      "outputs": [
        {
          "output_type": "stream",
          "text": [
            "Reading package lists... Done\n",
            "Building dependency tree       \n",
            "Reading state information... Done\n",
            "zlib1g-dev is already the newest version (1:1.2.11.dfsg-0ubuntu2).\n",
            "zlib1g-dev set to manually installed.\n",
            "The following package was automatically installed and is no longer required:\n",
            "  libnvidia-common-430\n",
            "Use 'apt autoremove' to remove it.\n",
            "0 upgraded, 0 newly installed, 0 to remove and 32 not upgraded.\n"
          ],
          "name": "stdout"
        }
      ]
    },
    {
      "cell_type": "code",
      "metadata": {
        "id": "mDJFYR2TXD5k",
        "colab_type": "code",
        "colab": {
          "base_uri": "https://localhost:8080/",
          "height": 307
        },
        "outputId": "094d74ae-c5be-4a45-d0b3-1456345e4342"
      },
      "source": [
        "!pip install pyreadr\n",
        "\n",
        "import pyreadr\n",
        "\n",
        "result = pyreadr.read_r(parked_filename) # also works for RData\n",
        "\n",
        "# done! \n",
        "# result is a dictionary where keys are the name of objects and the values python\n",
        "# objects. In the case of Rds there is only one object with None as key\n",
        "df = result[None] # extract the pandas data frame "
      ],
      "execution_count": 28,
      "outputs": [
        {
          "output_type": "stream",
          "text": [
            "Requirement already satisfied: pyreadr in /usr/local/lib/python3.6/dist-packages (0.2.2)\n"
          ],
          "name": "stdout"
        },
        {
          "output_type": "error",
          "ename": "LibrdataError",
          "evalue": "ignored",
          "traceback": [
            "\u001b[0;31m---------------------------------------------------------------------------\u001b[0m",
            "\u001b[0;31mLibrdataError\u001b[0m                             Traceback (most recent call last)",
            "\u001b[0;32m<ipython-input-28-ef25e3f16f89>\u001b[0m in \u001b[0;36m<module>\u001b[0;34m()\u001b[0m\n\u001b[1;32m      3\u001b[0m \u001b[0;32mimport\u001b[0m \u001b[0mpyreadr\u001b[0m\u001b[0;34m\u001b[0m\u001b[0;34m\u001b[0m\u001b[0m\n\u001b[1;32m      4\u001b[0m \u001b[0;34m\u001b[0m\u001b[0m\n\u001b[0;32m----> 5\u001b[0;31m \u001b[0mresult\u001b[0m \u001b[0;34m=\u001b[0m \u001b[0mpyreadr\u001b[0m\u001b[0;34m.\u001b[0m\u001b[0mread_r\u001b[0m\u001b[0;34m(\u001b[0m\u001b[0mparked_filename\u001b[0m\u001b[0;34m)\u001b[0m \u001b[0;31m# also works for RData\u001b[0m\u001b[0;34m\u001b[0m\u001b[0;34m\u001b[0m\u001b[0m\n\u001b[0m\u001b[1;32m      6\u001b[0m \u001b[0;34m\u001b[0m\u001b[0m\n\u001b[1;32m      7\u001b[0m \u001b[0;31m# done!\u001b[0m\u001b[0;34m\u001b[0m\u001b[0;34m\u001b[0m\u001b[0;34m\u001b[0m\u001b[0m\n",
            "\u001b[0;32m/usr/local/lib/python3.6/dist-packages/pyreadr/pyreadr.py\u001b[0m in \u001b[0;36mread_r\u001b[0;34m(path, use_objects, timezone)\u001b[0m\n\u001b[1;32m     38\u001b[0m     \u001b[0;32mif\u001b[0m \u001b[0mtimezone\u001b[0m\u001b[0;34m:\u001b[0m\u001b[0;34m\u001b[0m\u001b[0;34m\u001b[0m\u001b[0m\n\u001b[1;32m     39\u001b[0m         \u001b[0mparser\u001b[0m\u001b[0;34m.\u001b[0m\u001b[0mset_timezone\u001b[0m\u001b[0;34m(\u001b[0m\u001b[0mtimezone\u001b[0m\u001b[0;34m)\u001b[0m\u001b[0;34m\u001b[0m\u001b[0;34m\u001b[0m\u001b[0m\n\u001b[0;32m---> 40\u001b[0;31m     \u001b[0mparser\u001b[0m\u001b[0;34m.\u001b[0m\u001b[0mparse\u001b[0m\u001b[0;34m(\u001b[0m\u001b[0mpath\u001b[0m\u001b[0;34m)\u001b[0m\u001b[0;34m\u001b[0m\u001b[0;34m\u001b[0m\u001b[0m\n\u001b[0m\u001b[1;32m     41\u001b[0m \u001b[0;34m\u001b[0m\u001b[0m\n\u001b[1;32m     42\u001b[0m     \u001b[0mresult\u001b[0m \u001b[0;34m=\u001b[0m \u001b[0mOrderedDict\u001b[0m\u001b[0;34m(\u001b[0m\u001b[0;34m)\u001b[0m\u001b[0;34m\u001b[0m\u001b[0;34m\u001b[0m\u001b[0m\n",
            "\u001b[0;32m/usr/local/lib/python3.6/dist-packages/pyreadr/librdata.pyx\u001b[0m in \u001b[0;36mpyreadr.librdata.Parser.parse\u001b[0;34m()\u001b[0m\n",
            "\u001b[0;32m/usr/local/lib/python3.6/dist-packages/pyreadr/librdata.pyx\u001b[0m in \u001b[0;36mpyreadr.librdata.Parser.parse\u001b[0;34m()\u001b[0m\n",
            "\u001b[0;31mLibrdataError\u001b[0m: Unable to read from file"
          ]
        }
      ]
    },
    {
      "cell_type": "code",
      "metadata": {
        "id": "0HNRsqkCHo0r",
        "colab_type": "code",
        "colab": {
          "base_uri": "https://localhost:8080/",
          "height": 463
        },
        "outputId": "3d44ced5-975e-4950-c9a9-6fb209915d29"
      },
      "source": [
        "import rpy2.robjects as robjects\n",
        "from rpy2.robjects import pandas2ri\n",
        "pandas2ri.activate()\n",
        "readRDS = robjects.r['readRDS']\n",
        "df = readRDS(parked_filename)\n",
        "df = pandas2ri.ri2py(df)"
      ],
      "execution_count": 22,
      "outputs": [
        {
          "output_type": "stream",
          "text": [
            "/usr/local/lib/python3.6/dist-packages/rpy2/rinterface/__init__.py:146: RRuntimeWarning: Error in (function (file, refhook = NULL)  : \n",
            "  error reading from connection\n",
            "\n",
            "  warnings.warn(x, RRuntimeWarning)\n"
          ],
          "name": "stderr"
        },
        {
          "output_type": "error",
          "ename": "RRuntimeError",
          "evalue": "ignored",
          "traceback": [
            "\u001b[0;31m---------------------------------------------------------------------------\u001b[0m",
            "\u001b[0;31mRRuntimeError\u001b[0m                             Traceback (most recent call last)",
            "\u001b[0;32m<ipython-input-22-f00645e3024e>\u001b[0m in \u001b[0;36m<module>\u001b[0;34m()\u001b[0m\n\u001b[1;32m      3\u001b[0m \u001b[0mpandas2ri\u001b[0m\u001b[0;34m.\u001b[0m\u001b[0mactivate\u001b[0m\u001b[0;34m(\u001b[0m\u001b[0;34m)\u001b[0m\u001b[0;34m\u001b[0m\u001b[0;34m\u001b[0m\u001b[0m\n\u001b[1;32m      4\u001b[0m \u001b[0mreadRDS\u001b[0m \u001b[0;34m=\u001b[0m \u001b[0mrobjects\u001b[0m\u001b[0;34m.\u001b[0m\u001b[0mr\u001b[0m\u001b[0;34m[\u001b[0m\u001b[0;34m'readRDS'\u001b[0m\u001b[0;34m]\u001b[0m\u001b[0;34m\u001b[0m\u001b[0;34m\u001b[0m\u001b[0m\n\u001b[0;32m----> 5\u001b[0;31m \u001b[0mdf\u001b[0m \u001b[0;34m=\u001b[0m \u001b[0mreadRDS\u001b[0m\u001b[0;34m(\u001b[0m\u001b[0mparked_filename\u001b[0m\u001b[0;34m)\u001b[0m\u001b[0;34m\u001b[0m\u001b[0;34m\u001b[0m\u001b[0m\n\u001b[0m\u001b[1;32m      6\u001b[0m \u001b[0;31m#df = pandas2ri.ri2py(df)\u001b[0m\u001b[0;34m\u001b[0m\u001b[0;34m\u001b[0m\u001b[0;34m\u001b[0m\u001b[0m\n",
            "\u001b[0;32m/usr/local/lib/python3.6/dist-packages/rpy2/robjects/functions.py\u001b[0m in \u001b[0;36m__call__\u001b[0;34m(self, *args, **kwargs)\u001b[0m\n\u001b[1;32m    176\u001b[0m                 \u001b[0mv\u001b[0m \u001b[0;34m=\u001b[0m \u001b[0mkwargs\u001b[0m\u001b[0;34m.\u001b[0m\u001b[0mpop\u001b[0m\u001b[0;34m(\u001b[0m\u001b[0mk\u001b[0m\u001b[0;34m)\u001b[0m\u001b[0;34m\u001b[0m\u001b[0;34m\u001b[0m\u001b[0m\n\u001b[1;32m    177\u001b[0m                 \u001b[0mkwargs\u001b[0m\u001b[0;34m[\u001b[0m\u001b[0mr_k\u001b[0m\u001b[0;34m]\u001b[0m \u001b[0;34m=\u001b[0m \u001b[0mv\u001b[0m\u001b[0;34m\u001b[0m\u001b[0;34m\u001b[0m\u001b[0m\n\u001b[0;32m--> 178\u001b[0;31m         \u001b[0;32mreturn\u001b[0m \u001b[0msuper\u001b[0m\u001b[0;34m(\u001b[0m\u001b[0mSignatureTranslatedFunction\u001b[0m\u001b[0;34m,\u001b[0m \u001b[0mself\u001b[0m\u001b[0;34m)\u001b[0m\u001b[0;34m.\u001b[0m\u001b[0m__call__\u001b[0m\u001b[0;34m(\u001b[0m\u001b[0;34m*\u001b[0m\u001b[0margs\u001b[0m\u001b[0;34m,\u001b[0m \u001b[0;34m**\u001b[0m\u001b[0mkwargs\u001b[0m\u001b[0;34m)\u001b[0m\u001b[0;34m\u001b[0m\u001b[0;34m\u001b[0m\u001b[0m\n\u001b[0m\u001b[1;32m    179\u001b[0m \u001b[0;34m\u001b[0m\u001b[0m\n\u001b[1;32m    180\u001b[0m \u001b[0mpattern_link\u001b[0m \u001b[0;34m=\u001b[0m \u001b[0mre\u001b[0m\u001b[0;34m.\u001b[0m\u001b[0mcompile\u001b[0m\u001b[0;34m(\u001b[0m\u001b[0;34mr'\\\\link\\{(.+?)\\}'\u001b[0m\u001b[0;34m)\u001b[0m\u001b[0;34m\u001b[0m\u001b[0;34m\u001b[0m\u001b[0m\n",
            "\u001b[0;32m/usr/local/lib/python3.6/dist-packages/rpy2/robjects/functions.py\u001b[0m in \u001b[0;36m__call__\u001b[0;34m(self, *args, **kwargs)\u001b[0m\n\u001b[1;32m    104\u001b[0m         \u001b[0;32mfor\u001b[0m \u001b[0mk\u001b[0m\u001b[0;34m,\u001b[0m \u001b[0mv\u001b[0m \u001b[0;32min\u001b[0m \u001b[0mkwargs\u001b[0m\u001b[0;34m.\u001b[0m\u001b[0mitems\u001b[0m\u001b[0;34m(\u001b[0m\u001b[0;34m)\u001b[0m\u001b[0;34m:\u001b[0m\u001b[0;34m\u001b[0m\u001b[0;34m\u001b[0m\u001b[0m\n\u001b[1;32m    105\u001b[0m             \u001b[0mnew_kwargs\u001b[0m\u001b[0;34m[\u001b[0m\u001b[0mk\u001b[0m\u001b[0;34m]\u001b[0m \u001b[0;34m=\u001b[0m \u001b[0mconversion\u001b[0m\u001b[0;34m.\u001b[0m\u001b[0mpy2ri\u001b[0m\u001b[0;34m(\u001b[0m\u001b[0mv\u001b[0m\u001b[0;34m)\u001b[0m\u001b[0;34m\u001b[0m\u001b[0;34m\u001b[0m\u001b[0m\n\u001b[0;32m--> 106\u001b[0;31m         \u001b[0mres\u001b[0m \u001b[0;34m=\u001b[0m \u001b[0msuper\u001b[0m\u001b[0;34m(\u001b[0m\u001b[0mFunction\u001b[0m\u001b[0;34m,\u001b[0m \u001b[0mself\u001b[0m\u001b[0;34m)\u001b[0m\u001b[0;34m.\u001b[0m\u001b[0m__call__\u001b[0m\u001b[0;34m(\u001b[0m\u001b[0;34m*\u001b[0m\u001b[0mnew_args\u001b[0m\u001b[0;34m,\u001b[0m \u001b[0;34m**\u001b[0m\u001b[0mnew_kwargs\u001b[0m\u001b[0;34m)\u001b[0m\u001b[0;34m\u001b[0m\u001b[0;34m\u001b[0m\u001b[0m\n\u001b[0m\u001b[1;32m    107\u001b[0m         \u001b[0mres\u001b[0m \u001b[0;34m=\u001b[0m \u001b[0mconversion\u001b[0m\u001b[0;34m.\u001b[0m\u001b[0mri2ro\u001b[0m\u001b[0;34m(\u001b[0m\u001b[0mres\u001b[0m\u001b[0;34m)\u001b[0m\u001b[0;34m\u001b[0m\u001b[0;34m\u001b[0m\u001b[0m\n\u001b[1;32m    108\u001b[0m         \u001b[0;32mreturn\u001b[0m \u001b[0mres\u001b[0m\u001b[0;34m\u001b[0m\u001b[0;34m\u001b[0m\u001b[0m\n",
            "\u001b[0;31mRRuntimeError\u001b[0m: Error in (function (file, refhook = NULL)  : \n  error reading from connection\n"
          ]
        }
      ]
    },
    {
      "cell_type": "code",
      "metadata": {
        "id": "0TZSOJvl2Ha_",
        "colab_type": "code",
        "colab": {}
      },
      "source": [
        ""
      ],
      "execution_count": 0,
      "outputs": []
    },
    {
      "cell_type": "markdown",
      "metadata": {
        "id": "AJumrI0exIsx",
        "colab_type": "text"
      },
      "source": [
        "### Take 2: scanpy"
      ]
    },
    {
      "cell_type": "code",
      "metadata": {
        "id": "So3eoDMdxH-L",
        "colab_type": "code",
        "colab": {}
      },
      "source": [
        ""
      ],
      "execution_count": 0,
      "outputs": []
    },
    {
      "cell_type": "markdown",
      "metadata": {
        "id": "03gnrXb84HCg",
        "colab_type": "text"
      },
      "source": [
        "## References\n",
        "\n",
        "- [ ] https://github.com/czbiohub/tabula-muris-vignettes\n",
        "\n",
        "### Other Fred Hutch data\n",
        "\n",
        "- [ ] [2 million cells](https://brotmanbaty.org/2-million-cell-experiment-traces-how-a-mammal-grows-cell-by-single-cell/)\n",
        "- [ ] [2018 work with ~100K cells \tCusanovich DA](https://www.ncbi.nlm.nih.gov/geo/query/acc.cgi?acc=GSE111586)   \n",
        "- [ ] [A Single-Cell Atlas of In Vivo Mammalian Chromatin\n",
        "Accessibility](https://cole-trapnell-lab.github.io/pdfs/papers/cusanovich-mouse-atac.pdf) in Cell\n"
      ]
    }
  ]
}