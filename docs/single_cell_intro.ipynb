{
  "nbformat": 4,
  "nbformat_minor": 0,
  "metadata": {
    "colab": {
      "name": "single_cell_intro.ipynb",
      "provenance": [],
      "collapsed_sections": [],
      "toc_visible": true
    },
    "kernelspec": {
      "name": "python3",
      "display_name": "Python 3"
    }
  },
  "cells": [
    {
      "cell_type": "markdown",
      "metadata": {
        "id": "-cZCw7Xazhb3",
        "colab_type": "text"
      },
      "source": [
        "# Single Cell on Colab\n",
        "\n",
        "<img src=\"https://camo.githubusercontent.com/770f259b4b94441d93dad6c20ed40ac9a1009885/687474703a2f2f7265636f6e73747275652e636f6d2f70726f6a656374732f73696e676c655f63656c6c5f6f6e5f636f6c61622f64656d6f2f616962735f63656c6c5f6469766572736974795f7072655f74736e65645f62795f646174617368616465722e706e67\" width=\"100%\" />\n",
        "\n",
        "The main topic of this project is algorithms and software for performing analysis of single cell genomics data. The author is a software developer without any formalized training in live sciences (Organic Chemistry 101 was a real turn off). \n",
        "\n",
        "The goal is to produce industrial strength open source tools which can be used by industry.\n"
      ]
    },
    {
      "cell_type": "markdown",
      "metadata": {
        "id": "aZFZwxCiWOy0",
        "colab_type": "text"
      },
      "source": [
        "## Legal\n",
        "\n",
        "\n",
        "<img src=\"http://reconstrue.com/assets/images/reconstrue_combo_mark.svg\" height=\"40px\" />\n",
        "\n",
        "Copyright 2020 Reconstrue LLC. Licensed under the Apache License, Version 2.0 (the \"License\"):"
      ]
    },
    {
      "cell_type": "code",
      "metadata": {
        "id": "5Pq2T5H7WndI",
        "colab_type": "code",
        "colab": {}
      },
      "source": [
        "# Copyright 2020 Reconstrue LLC. All Rights Reserved.\n",
        "#\n",
        "# Licensed under the Apache License, Version 2.0 (the \"License\");\n",
        "# you may not use this file except in compliance with the License.\n",
        "# You may obtain a copy of the License at\n",
        "#\n",
        "#     http://www.apache.org/licenses/LICENSE-2.0\n",
        "#\n",
        "# Unless required by applicable law or agreed to in writing, software\n",
        "# distributed under the License is distributed on an \"AS IS\" BASIS,\n",
        "# WITHOUT WARRANTIES OR CONDITIONS OF ANY KIND, either express or implied.\n",
        "# See the License for the specific language governing permissions and\n",
        "# limitations under the License.\n",
        "# =============================================================================="
      ],
      "execution_count": 0,
      "outputs": []
    },
    {
      "cell_type": "markdown",
      "metadata": {
        "id": "VkwwPwTnzl9Z",
        "colab_type": "text"
      },
      "source": [
        "## Primer\n",
        "\n",
        "For the completely unitiated (such as the author) here's a few short videos which is probably the quickest way to even begin to come up to speed on what biomechanical Rube Goldberg shit is going on inside neuclei like so many Turning machine read/copy heads (Turing machines write; DNA just gets tagged with 4 atom molecules (called \"methel groups\"; 3 H around 1 C) walking along the infinitely long tape that is a DNA strand. \n",
        "\n",
        "In the case of transcription, those Turing machine heads read DNA and trascribe it to an new message strand (mRNA), which then [moves away](https://www.youtube.com/watch?v=9RUHJhskW00) from the DNA, leaves the neuclius, is received by a ribosome which executes the instructions to manufacture (called [translation](https://www.youtube.com/watch?v=WvZ1PK8Uxao)) various proteins which later become flesh, or [whatever](https://www.youtube.com/watch?v=G8RYhV569xg).\n",
        "\n",
        "In transcriptomics, a cell is killed and the forensic team picks over the murder scene to see what the neuclius way working on when it died. Think, reconstruting shredded documents: that's kinda what RNA-seq data analysis is all about: cops digging through recycling bins for shredded documents.\n",
        "\n"
      ]
    },
    {
      "cell_type": "markdown",
      "metadata": {
        "id": "kmT1L8uci2Jy",
        "colab_type": "text"
      },
      "source": [
        "### DNA and Friends 101\n",
        "- [Transcriptomic molecular machinery](https://www.youtube.com/watch?v=7Hk9jct2ozY), 8m, 2018\n",
        "- [Regulation of transcription | Biomolecules | MCAT | Khan Academy](https://www.youtube.com/watch?v=ypH-hDKpCY0), 7m, data types in dna sequences\n",
        "- [DNA Packaging Animation | chromatin, histone and nucleosome modifications](https://www.youtube.com/watch?v=MsQHwXfYkAs)\n",
        "- [DNA Transcription Made EASY | Part 1: Initiation](https://www.youtube.com/watch?v=ZwH6eh6rHMc)\n",
        "\n"
      ]
    },
    {
      "cell_type": "markdown",
      "metadata": {
        "id": "LyY7RCI4lAlQ",
        "colab_type": "text"
      },
      "source": [
        "### Digital analysis\n",
        "- [Session 2 - NGS Data Analysis](https://www.youtube.com/watch?v=sGBXYbNveYo&list=PLtfyFsgaWppavqXui31JS05kxBjGI7kxv&index=4)\n",
        "  - YouTube, 2019-09, 63 minutes\n",
        "- [StatQuest: A gentle introduction to RNA-seq\n",
        "](https://www.youtube.com/watch?v=tlf6wYJrwKY)\n",
        "  - Pub: [Genetics at UNC Chapel Hill](https://www.med.unc.edu/genetics/) \n",
        "  - Dist: YouTube, 2017-09, 19 minutes\n",
        "- [Introduction to RNA-Seq for Researchers](https://youtu.be/7BLS_YY9HeM)\n",
        "  - YT, 28m, Michael Chimenti of Ihio"
      ]
    },
    {
      "cell_type": "markdown",
      "metadata": {
        "id": "dplVrToSjKLu",
        "colab_type": "text"
      },
      "source": [
        "## Maths\n",
        "\n",
        "This first talk introduces a simple ontology of dimensionality reduction techniques with most of the talk on tSNE and then UMAP.\n",
        "\n",
        "- [A Bluffer's Guide to Dimension Reduction - Leland McInnes](https://youtu.be/9iol3Lk6kyU) \n",
        "  - PyData NY 2018\n",
        "  - YouTube: 37 minutes\n",
        "\n",
        "### tSNE\n",
        "\n",
        "- [StatQuest: t-SNE, Clearly Explained](https://youtu.be/NEaUSP4YerM)\n",
        "  - YouTube: 12 minutes\n",
        "  - 2017\n",
        "\n",
        "### UMAP\n",
        "\n",
        "Leland McInnes is the author of UMAP. His tech talks are quite informative.\n",
        "\n",
        "- [UMAP Uniform Manifold Approximation and Projection for Dimension Reduction](https://youtu.be/nq6iPZVUxZU) \n",
        "  - SciPy 2018\n",
        "  - YouTube: 27 minutes\n",
        "\n"
      ]
    },
    {
      "cell_type": "code",
      "metadata": {
        "id": "bDTTr7dIzfQI",
        "colab_type": "code",
        "colab": {}
      },
      "source": [
        ""
      ],
      "execution_count": 0,
      "outputs": []
    }
  ]
}