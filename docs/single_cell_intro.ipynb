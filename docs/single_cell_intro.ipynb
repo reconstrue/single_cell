{
  "nbformat": 4,
  "nbformat_minor": 0,
  "metadata": {
    "colab": {
      "name": "single_cell_intro.ipynb",
      "provenance": [],
      "collapsed_sections": []
    },
    "kernelspec": {
      "name": "python3",
      "display_name": "Python 3"
    }
  },
  "cells": [
    {
      "cell_type": "markdown",
      "metadata": {
        "id": "-cZCw7Xazhb3",
        "colab_type": "text"
      },
      "source": [
        "# Single Cell Genomics on Colab\n",
        "\n"
      ]
    },
    {
      "cell_type": "markdown",
      "metadata": {
        "id": "VkwwPwTnzl9Z",
        "colab_type": "text"
      },
      "source": [
        "## Primer\n",
        "\n",
        "Videos\n",
        "- [StatQuest: A gentle introduction to RNA-seq\n",
        "](https://www.youtube.com/watch?v=tlf6wYJrwKY)\n",
        "  - [Genetics at UNC Chapel Hill](https://www.med.unc.edu/genetics/) \n",
        "  - YouTube, 2017-09, 19 minutes"
      ]
    },
    {
      "cell_type": "code",
      "metadata": {
        "id": "bDTTr7dIzfQI",
        "colab_type": "code",
        "colab": {}
      },
      "source": [
        ""
      ],
      "execution_count": 0,
      "outputs": []
    }
  ]
}