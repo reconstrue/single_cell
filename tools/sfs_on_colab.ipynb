{
  "nbformat": 4,
  "nbformat_minor": 0,
  "metadata": {
    "colab": {
      "name": "sfs_on_colab.ipynb",
      "provenance": [],
      "collapsed_sections": [],
      "toc_visible": true
    },
    "kernelspec": {
      "name": "python3",
      "display_name": "Python 3"
    }
  },
  "cells": [
    {
      "cell_type": "markdown",
      "metadata": {
        "id": "MDkdeBfflQXs",
        "colab_type": "text"
      },
      "source": [
        "# Seattle Flu Study Tools on Colab\n",
        "\n",
        "This notebook started as simply a first pass tire kicking of some open source tools out of the [Seattle Flu Study](https://seattleflu.org/).\n",
        "- [Nextstrain](https://nextstrain.org/docs/getting-started/introduction)\n",
        "- id3c\n",
        "- [Nextstrain built for nCoV](https://github.com/nextstrain/ncov)"
      ]
    },
    {
      "cell_type": "markdown",
      "metadata": {
        "id": "rmkej34zoWfe",
        "colab_type": "text"
      },
      "source": [
        "## Auspice\n",
        "\n",
        "![](https://neherlab.org/talk_images/zika_tutorial_zoom.PNG)\n",
        "\n",
        "[Exploring interactive phylogenies with Auspice](https://neherlab.org/201901_krisp_auspice.html)\n"
      ]
    },
    {
      "cell_type": "markdown",
      "metadata": {
        "id": "ao_JgFm7zSi7",
        "colab_type": "text"
      },
      "source": [
        "## id3c\n",
        "\n",
        "[Installing this on Colab doesn't seem like it would be easy. But there may be a publicly available deploy already, see [their infrastructure doc](https://github.com/seattleflu/documentation/blob/master/infrastructure.md)].\n",
        "\n",
        "[id3c](https://github.com/seattleflu/id3c) is self-described as: \"Data logistics system enabling real-time genomic epidemiology. Built for the Seattle Flu Study.\"\n",
        "\n",
        "\n"
      ]
    },
    {
      "cell_type": "markdown",
      "metadata": {
        "id": "FGZ24UrKCXru",
        "colab_type": "text"
      },
      "source": [
        "### Install tools\n"
      ]
    },
    {
      "cell_type": "markdown",
      "metadata": {
        "id": "rHw2AR6I4nkX",
        "colab_type": "text"
      },
      "source": [
        "### Database on Colab\n",
        "\n",
        "The whole idea with Colab is that the VMs are thrown away at a maximum of 12 hours. So, installing a database is a bit counter-intuitive ergo Colab does not come with a database pre-installed. \n",
        "\n",
        "But id3c is whole heartedly a PostgreSQL back-ended service. "
      ]
    },
    {
      "cell_type": "markdown",
      "metadata": {
        "id": "ugk4XNdG15C9",
        "colab_type": "text"
      },
      "source": [
        "### Python to Postgres\n",
        "\n",
        "Unsurprisingly Colab has `psycopg2` pre-installed for connecting to PostgreSQL databases."
      ]
    },
    {
      "cell_type": "code",
      "metadata": {
        "id": "XsGc1dT71Z4L",
        "colab_type": "code",
        "colab": {
          "base_uri": "https://localhost:8080/",
          "height": 34
        },
        "outputId": "7427572a-7f74-410a-8dac-a22001c5caf4"
      },
      "source": [
        "!pip install psycopg2"
      ],
      "execution_count": 3,
      "outputs": [
        {
          "output_type": "stream",
          "text": [
            "Requirement already satisfied: psycopg2 in /usr/local/lib/python3.6/dist-packages (2.7.6.1)\n"
          ],
          "name": "stdout"
        }
      ]
    },
    {
      "cell_type": "markdown",
      "metadata": {
        "id": "4ysiYqbY22de",
        "colab_type": "text"
      },
      "source": [
        "### Actual PostgreSQL database on Colab\n",
        "\n",
        "Well, first of all it doesn't seem to be pre-installed on Colab:\n",
        "```\n",
        "createdb --encoding=UTF-8 seattleflu\n",
        "```"
      ]
    },
    {
      "cell_type": "code",
      "metadata": {
        "id": "Zv2rn90RzRl9",
        "colab_type": "code",
        "colab": {
          "base_uri": "https://localhost:8080/",
          "height": 34
        },
        "outputId": "ba2730d7-ad84-4a53-9ddb-01bc62fca32d"
      },
      "source": [
        "!createdb --encoding=UTF-8 seattleflu\n"
      ],
      "execution_count": 2,
      "outputs": [
        {
          "output_type": "stream",
          "text": [
            "/bin/bash: createdb: command not found\n"
          ],
          "name": "stdout"
        }
      ]
    },
    {
      "cell_type": "markdown",
      "metadata": {
        "id": "bPpXmU1x22Ny",
        "colab_type": "text"
      },
      "source": [
        ""
      ]
    },
    {
      "cell_type": "code",
      "metadata": {
        "id": "3EGcdhH57u_i",
        "colab_type": "code",
        "colab": {
          "base_uri": "https://localhost:8080/",
          "height": 34
        },
        "outputId": "797b8d16-fb80-4d03-9fbe-c8329befddff"
      },
      "source": [
        "!psql"
      ],
      "execution_count": 4,
      "outputs": [
        {
          "output_type": "stream",
          "text": [
            "/bin/bash: psql: command not found\n"
          ],
          "name": "stdout"
        }
      ]
    },
    {
      "cell_type": "markdown",
      "metadata": {
        "id": "hpz0am36CdJm",
        "colab_type": "text"
      },
      "source": [
        "#### Snakemake\n",
        "\n",
        "Seems that Snakemake is used to do some building. [Snakemake can be pip installed](https://snakemake.readthedocs.io/en/stable/getting_started/installation.html#global-installation). Simple enough and it seemed to work."
      ]
    },
    {
      "cell_type": "code",
      "metadata": {
        "id": "05oX1iVjB3gP",
        "colab_type": "code",
        "colab": {
          "base_uri": "https://localhost:8080/",
          "height": 921
        },
        "outputId": "da06ac88-1d52-42fb-c67c-3b05b8480d32"
      },
      "source": [
        "!pip3 install snakemake"
      ],
      "execution_count": 6,
      "outputs": [
        {
          "output_type": "stream",
          "text": [
            "Collecting snakemake\n",
            "\u001b[?25l  Downloading https://files.pythonhosted.org/packages/7f/80/9505824b9452cca533728a3be7194b53aafca6b93fc0a82c592f82af7497/snakemake-5.10.0.tar.gz (200kB)\n",
            "\r\u001b[K     |█▋                              | 10kB 17.8MB/s eta 0:00:01\r\u001b[K     |███▎                            | 20kB 1.7MB/s eta 0:00:01\r\u001b[K     |█████                           | 30kB 2.6MB/s eta 0:00:01\r\u001b[K     |██████▌                         | 40kB 3.3MB/s eta 0:00:01\r\u001b[K     |████████▏                       | 51kB 2.1MB/s eta 0:00:01\r\u001b[K     |█████████▉                      | 61kB 2.5MB/s eta 0:00:01\r\u001b[K     |███████████▍                    | 71kB 2.9MB/s eta 0:00:01\r\u001b[K     |█████████████                   | 81kB 3.2MB/s eta 0:00:01\r\u001b[K     |██████████████▊                 | 92kB 3.6MB/s eta 0:00:01\r\u001b[K     |████████████████▎               | 102kB 2.8MB/s eta 0:00:01\r\u001b[K     |██████████████████              | 112kB 2.8MB/s eta 0:00:01\r\u001b[K     |███████████████████▋            | 122kB 2.8MB/s eta 0:00:01\r\u001b[K     |█████████████████████▏          | 133kB 2.8MB/s eta 0:00:01\r\u001b[K     |██████████████████████▉         | 143kB 2.8MB/s eta 0:00:01\r\u001b[K     |████████████████████████▌       | 153kB 2.8MB/s eta 0:00:01\r\u001b[K     |██████████████████████████      | 163kB 2.8MB/s eta 0:00:01\r\u001b[K     |███████████████████████████▊    | 174kB 2.8MB/s eta 0:00:01\r\u001b[K     |█████████████████████████████▍  | 184kB 2.8MB/s eta 0:00:01\r\u001b[K     |███████████████████████████████ | 194kB 2.8MB/s eta 0:00:01\r\u001b[K     |████████████████████████████████| 204kB 2.8MB/s \n",
            "\u001b[?25hRequirement already satisfied: wrapt in /usr/local/lib/python3.6/dist-packages (from snakemake) (1.12.0)\n",
            "Requirement already satisfied: requests in /usr/local/lib/python3.6/dist-packages (from snakemake) (2.21.0)\n",
            "Collecting ratelimiter\n",
            "  Downloading https://files.pythonhosted.org/packages/51/80/2164fa1e863ad52cc8d870855fba0fbb51edd943edffd516d54b5f6f8ff8/ratelimiter-1.2.0.post0-py3-none-any.whl\n",
            "Requirement already satisfied: pyyaml in /usr/local/lib/python3.6/dist-packages (from snakemake) (3.13)\n",
            "Collecting configargparse\n",
            "\u001b[?25l  Downloading https://files.pythonhosted.org/packages/66/37/dd9fcb3b19c1dceea450ee994952e311a96dd827bb09ee19169c3427e0d3/ConfigArgParse-1.0.tar.gz (40kB)\n",
            "\u001b[K     |████████████████████████████████| 40kB 4.8MB/s \n",
            "\u001b[?25hCollecting appdirs\n",
            "  Downloading https://files.pythonhosted.org/packages/56/eb/810e700ed1349edde4cbdc1b2a21e28cdf115f9faf263f6bbf8447c1abf3/appdirs-1.4.3-py2.py3-none-any.whl\n",
            "Collecting datrie\n",
            "\u001b[?25l  Downloading https://files.pythonhosted.org/packages/f5/a2/49d6db3af61eb139fb8fa2cdff90a4789e8255d227baf8f9a1ec945b4aac/datrie-0.8.tar.gz (226kB)\n",
            "\u001b[K     |████████████████████████████████| 235kB 35.6MB/s \n",
            "\u001b[?25hRequirement already satisfied: jsonschema in /usr/local/lib/python3.6/dist-packages (from snakemake) (2.6.0)\n",
            "Requirement already satisfied: docutils in /usr/local/lib/python3.6/dist-packages (from snakemake) (0.15.2)\n",
            "Collecting gitpython\n",
            "\u001b[?25l  Downloading https://files.pythonhosted.org/packages/d3/2f/6a366d56c9b1355b0880be9ea66b166cb3536392638d8d91413ec66305ad/GitPython-3.1.0-py3-none-any.whl (450kB)\n",
            "\u001b[K     |████████████████████████████████| 460kB 40.3MB/s \n",
            "\u001b[?25hRequirement already satisfied: psutil in /usr/local/lib/python3.6/dist-packages (from snakemake) (5.4.8)\n",
            "Requirement already satisfied: nbformat in /usr/local/lib/python3.6/dist-packages (from snakemake) (5.0.4)\n",
            "Collecting toposort\n",
            "  Downloading https://files.pythonhosted.org/packages/e9/8a/321cd8ea5f4a22a06e3ba30ef31ec33bea11a3443eeb1d89807640ee6ed4/toposort-1.5-py2.py3-none-any.whl\n",
            "Requirement already satisfied: certifi>=2017.4.17 in /usr/local/lib/python3.6/dist-packages (from requests->snakemake) (2019.11.28)\n",
            "Requirement already satisfied: urllib3<1.25,>=1.21.1 in /usr/local/lib/python3.6/dist-packages (from requests->snakemake) (1.24.3)\n",
            "Requirement already satisfied: chardet<3.1.0,>=3.0.2 in /usr/local/lib/python3.6/dist-packages (from requests->snakemake) (3.0.4)\n",
            "Requirement already satisfied: idna<2.9,>=2.5 in /usr/local/lib/python3.6/dist-packages (from requests->snakemake) (2.8)\n",
            "Collecting gitdb<5,>=4.0.1\n",
            "\u001b[?25l  Downloading https://files.pythonhosted.org/packages/1e/f5/8f84b3bf9d94bdf2454a302f2fa375832b53660ea532586b8a55ff16ae9a/gitdb-4.0.2-py3-none-any.whl (63kB)\n",
            "\u001b[K     |████████████████████████████████| 71kB 8.3MB/s \n",
            "\u001b[?25hRequirement already satisfied: jupyter-core in /usr/local/lib/python3.6/dist-packages (from nbformat->snakemake) (4.6.3)\n",
            "Requirement already satisfied: traitlets>=4.1 in /usr/local/lib/python3.6/dist-packages (from nbformat->snakemake) (4.3.3)\n",
            "Requirement already satisfied: ipython-genutils in /usr/local/lib/python3.6/dist-packages (from nbformat->snakemake) (0.2.0)\n",
            "Collecting smmap<4,>=3.0.1\n",
            "  Downloading https://files.pythonhosted.org/packages/35/d2/27777ab463cd44842c78305fa8097dfba0d94768abbb7e1c4d88f1fa1a0b/smmap-3.0.1-py2.py3-none-any.whl\n",
            "Requirement already satisfied: six in /usr/local/lib/python3.6/dist-packages (from traitlets>=4.1->nbformat->snakemake) (1.12.0)\n",
            "Requirement already satisfied: decorator in /usr/local/lib/python3.6/dist-packages (from traitlets>=4.1->nbformat->snakemake) (4.4.2)\n",
            "Building wheels for collected packages: snakemake, configargparse, datrie\n",
            "  Building wheel for snakemake (setup.py) ... \u001b[?25l\u001b[?25hdone\n",
            "  Created wheel for snakemake: filename=snakemake-5.10.0-cp36-none-any.whl size=216522 sha256=9d1eefea4a6aab24498e19eaf1e8c93e6a9e8c0451301bfcd886a6fa306f27d6\n",
            "  Stored in directory: /root/.cache/pip/wheels/36/e4/29/95bd218a9ac1e77256798b5cfce92bc5fa5f264384c8087834\n",
            "  Building wheel for configargparse (setup.py) ... \u001b[?25l\u001b[?25hdone\n",
            "  Created wheel for configargparse: filename=ConfigArgParse-1.0-cp36-none-any.whl size=17874 sha256=d2cbd2e0bb6f5aca08a22ee31ccfbad0f0967c4f24512710cb3843bcb8786cad\n",
            "  Stored in directory: /root/.cache/pip/wheels/0d/3a/3f/d9c3d44d4e15f125c92bd64b611106937511e20ecc34bb5229\n",
            "  Building wheel for datrie (setup.py) ... \u001b[?25l\u001b[?25hdone\n",
            "  Created wheel for datrie: filename=datrie-0.8-cp36-cp36m-linux_x86_64.whl size=509888 sha256=713a6e00f96b9e811d451055dd8bd27a6d90fa8309eead889209935019680736\n",
            "  Stored in directory: /root/.cache/pip/wheels/9d/4b/ea/c66c865f462402e3bcd9673e506701bbba140a162735fdf262\n",
            "Successfully built snakemake configargparse datrie\n",
            "Installing collected packages: ratelimiter, configargparse, appdirs, datrie, smmap, gitdb, gitpython, toposort, snakemake\n",
            "Successfully installed appdirs-1.4.3 configargparse-1.0 datrie-0.8 gitdb-4.0.2 gitpython-3.1.0 ratelimiter-1.2.0.post0 smmap-3.0.1 snakemake-5.10.0 toposort-1.5\n"
          ],
          "name": "stdout"
        }
      ]
    },
    {
      "cell_type": "code",
      "metadata": {
        "id": "HMA7pi1SBjvw",
        "colab_type": "code",
        "colab": {
          "base_uri": "https://localhost:8080/",
          "height": 34
        },
        "outputId": "1f225de1-c439-4cbd-dc35-af4a9037cd69"
      },
      "source": [
        "!snakemake"
      ],
      "execution_count": 8,
      "outputs": [
        {
          "output_type": "stream",
          "text": [
            "Error: no Snakefile found, tried Snakefile, snakefile, workflow/Snakefile, workflow/snakefile.\n"
          ],
          "name": "stdout"
        }
      ]
    }
  ]
}