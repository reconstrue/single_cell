{
  "nbformat": 4,
  "nbformat_minor": 0,
  "metadata": {
    "colab": {
      "name": "nptsne_on_colab.ipynb",
      "provenance": [],
      "collapsed_sections": [],
      "toc_visible": true
    },
    "kernelspec": {
      "name": "python3",
      "display_name": "Python 3"
    }
  },
  "cells": [
    {
      "cell_type": "markdown",
      "metadata": {
        "id": "H7f7e6JddLDM",
        "colab_type": "text"
      },
      "source": [
        "# Colab running nptsne\n",
        "\n",
        "# <img src=\"http://reconstrue.com/assets/images/reconstrue_logo_brandmark.svg\" width=\"42px\" align=\"top\" /> **Reconstrue**\n",
        "\n",
        "\n"
      ]
    },
    {
      "cell_type": "markdown",
      "metadata": {
        "id": "UeOum-do-PLE",
        "colab_type": "text"
      },
      "source": [
        "## Introduction"
      ]
    },
    {
      "cell_type": "markdown",
      "metadata": {
        "id": "yCbOStikvCfH",
        "colab_type": "text"
      },
      "source": [
        "### Legal\n",
        "\n",
        "Copyright 2019 Reconstrue LLC.\n",
        "Licensed under the Apache License, Version 2.0 (the \"License\");\n"
      ]
    },
    {
      "cell_type": "code",
      "metadata": {
        "id": "th4l6XBmvG9G",
        "colab_type": "code",
        "colab": {}
      },
      "source": [
        "# Copyright 2019 Reconstrue LLC. All Rights Reserved.\n",
        "#\n",
        "# Licensed under the Apache License, Version 2.0 (the \"License\");\n",
        "# you may not use this file except in compliance with the License.\n",
        "# You may obtain a copy of the License at\n",
        "#\n",
        "#     http://www.apache.org/licenses/LICENSE-2.0\n",
        "#\n",
        "# Unless required by applicable law or agreed to in writing, software\n",
        "# distributed under the License is distributed on an \"AS IS\" BASIS,\n",
        "# WITHOUT WARRANTIES OR CONDITIONS OF ANY KIND, either express or implied.\n",
        "# See the License for the specific language governing permissions and\n",
        "# limitations under the License.\n",
        "# =============================================================================="
      ],
      "execution_count": 0,
      "outputs": []
    },
    {
      "cell_type": "markdown",
      "metadata": {
        "id": "LcKASKYGvHnk",
        "colab_type": "text"
      },
      "source": [
        "### Basic links\n",
        "\"nptsne is a numpy compatible python binary package that offers a number of APIs for fast tSNE calculation.\"\n",
        "\n",
        "- https://github.com/biovault/nptsne\n",
        "- PyPI: [nptsne 1.0.0](https://pypi.org/project/nptsne/)\n",
        "- Demo notebook: [NPTSNE_notebooktests.ipynb](https://github.com/biovault/nptsne/blob/master/examples/NPTSNE_notebooktests.ipynb)\n",
        "\n",
        "## notes\n",
        "\n",
        "https://twitter.com/ThomasHollt/status/1192738112876756992\n",
        "\n",
        ">Our multi-platform, multi-GPU GPU t-SNE (https://doi.org/10.1109/TVCG.2019.2934307) is now also available directly through pypi. Simply type\n",
        ">\n",
        ">`pip install nptsne`\n",
        ">\n",
        ">on Mac and windows. (Check https://pypi.org/project/nptsne/ for more details and Linux instructions)\n",
        "```"
      ]
    },
    {
      "cell_type": "markdown",
      "metadata": {
        "id": "zLlkfjEq1YA7",
        "colab_type": "text"
      },
      "source": [
        "## Install nptsne on Colab\n",
        "\n",
        "[The nptsne page on pypi.org](https://pypi.org/project/nptsne/) page says to just `pip install nptsne`. But the page also says, that Linux – unlike Windows and macOC – requires a slightly more complicated install. Linux needs to downloand nptsne for specific Python environment: 3.6 or 3.7. That is confirmed by the following failure:"
      ]
    },
    {
      "cell_type": "code",
      "metadata": {
        "id": "1LTDkdwvumEL",
        "colab_type": "code",
        "colab": {}
      },
      "source": [
        "#!pip install nptsne\n",
        "#\n",
        "#ERROR: Could not find a version that satisfies the requirement nptsne (from versions: none)\n",
        "#ERROR: No matching distribution found for nptsne"
      ],
      "execution_count": 0,
      "outputs": []
    },
    {
      "cell_type": "markdown",
      "metadata": {
        "id": "STdL4TI0AxQW",
        "colab_type": "text"
      },
      "source": [
        "According to the install instructions, it seems the install is sensitive to 3.6.x vs. 3.7.x.\n"
      ]
    },
    {
      "cell_type": "code",
      "metadata": {
        "id": "c6suVx_C2Pml",
        "colab_type": "code",
        "colab": {
          "base_uri": "https://localhost:8080/",
          "height": 50
        },
        "outputId": "182474f1-f316-43f8-b24b-9cae85a41946"
      },
      "source": [
        "import platform\n",
        "from datetime import date\n",
        "\n",
        "print(\"Python runtime version: %s\" % platform.python_version())\n",
        "print(f'Date run: {date.today()}')"
      ],
      "execution_count": 3,
      "outputs": [
        {
          "output_type": "stream",
          "text": [
            "Python runtime version: 3.6.9\n",
            "Date run: 2019-12-16\n"
          ],
          "name": "stdout"
        }
      ]
    },
    {
      "cell_type": "markdown",
      "metadata": {
        "id": "_NmfREF-2oiq",
        "colab_type": "text"
      },
      "source": [
        "So, download the 3.6 wheel for nptsne 1.0.0, `nptsne-1.0.0-cp36-none-linux_x86_64.whl`. Then install"
      ]
    },
    {
      "cell_type": "code",
      "metadata": {
        "id": "yLQl4N1e1tTp",
        "colab_type": "code",
        "colab": {
          "base_uri": "https://localhost:8080/",
          "height": 222
        },
        "outputId": "17216b2b-205c-48b2-9582-f54de1771591"
      },
      "source": [
        "!wget --show-progress -q http://cytosplore.lumc.nl:8081/artifactory/wheels/nptsne/nptsne-1.0.0-cp36-none-linux_x86_64.whl\n",
        "!echo --\n",
        "!ls\n",
        "!echo --\n",
        "!pip install nptsne-1.0.0-cp36-none-linux_x86_64.whl"
      ],
      "execution_count": 4,
      "outputs": [
        {
          "output_type": "stream",
          "text": [
            "nptsne-1.0.0-cp36-n 100%[===================>] 344.00K   621KB/s    in 0.6s    \n",
            "--\n",
            "mnist-original.mat\n",
            "nptsne-1.0.0-cp36-none-linux_x86_64.whl\n",
            "nptsne-1.0.0-cp36-none-linux_x86_64.whl.1\n",
            "nptsne-1.0.0-cp36-none-linux_x86_64.whl.2\n",
            "nptsne-1.0.0-cp36-none-linux_x86_64.whl.3\n",
            "sample_data\n",
            "--\n",
            "Requirement already satisfied: nptsne==1.0.0 from file:///content/nptsne-1.0.0-cp36-none-linux_x86_64.whl in /usr/local/lib/python3.6/dist-packages (1.0.0)\n",
            "Requirement already satisfied: numpy>=1.11.0 in /usr/local/lib/python3.6/dist-packages (from nptsne==1.0.0) (1.17.4)\n"
          ],
          "name": "stdout"
        }
      ]
    },
    {
      "cell_type": "code",
      "metadata": {
        "id": "tL-oSBXZHR9v",
        "colab_type": "code",
        "colab": {
          "base_uri": "https://localhost:8080/",
          "height": 151
        },
        "outputId": "33498233-9002-4418-b568-1f93920210f8"
      },
      "source": [
        "!apt-get install libglfw3"
      ],
      "execution_count": 5,
      "outputs": [
        {
          "output_type": "stream",
          "text": [
            "Reading package lists... Done\n",
            "Building dependency tree       \n",
            "Reading state information... Done\n",
            "libglfw3 is already the newest version (3.2.1-1).\n",
            "The following package was automatically installed and is no longer required:\n",
            "  libnvidia-common-430\n",
            "Use 'apt autoremove' to remove it.\n",
            "0 upgraded, 0 newly installed, 0 to remove and 7 not upgraded.\n"
          ],
          "name": "stdout"
        }
      ]
    },
    {
      "cell_type": "code",
      "metadata": {
        "id": "rr1HrUZkLVDl",
        "colab_type": "code",
        "colab": {
          "base_uri": "https://localhost:8080/",
          "height": 34
        },
        "outputId": "20d41a25-16ea-45e9-a2b0-e59a209d8ec7"
      },
      "source": [
        "pip install glfw"
      ],
      "execution_count": 6,
      "outputs": [
        {
          "output_type": "stream",
          "text": [
            "Requirement already satisfied: glfw in /usr/local/lib/python3.6/dist-packages (1.8.7)\n"
          ],
          "name": "stdout"
        }
      ]
    },
    {
      "cell_type": "markdown",
      "metadata": {
        "id": "5gbyUi5P-abK",
        "colab_type": "text"
      },
      "source": [
        "## Exercise nptsne on Colab"
      ]
    },
    {
      "cell_type": "markdown",
      "metadata": {
        "id": "jzQe5xdNcy2w",
        "colab_type": "text"
      },
      "source": [
        "### Follow example notebook\n",
        "\n",
        "https://github.com/biovault/nptsne/blob/master/examples/NPTSNE_notebooktests.ipynb\n"
      ]
    },
    {
      "cell_type": "code",
      "metadata": {
        "id": "-P4VNgPvc_VN",
        "colab_type": "code",
        "colab": {
          "base_uri": "https://localhost:8080/",
          "height": 34
        },
        "outputId": "a692b206-2d91-4a62-eaa8-08b5a22172a0"
      },
      "source": [
        "import sys\n",
        "import nptsne\n",
        "import matplotlib.pyplot as plt\n",
        "from   matplotlib import rc\n",
        "import numpy as np\n",
        "\n",
        "from six.moves import urllib\n",
        "from scipy.io import loadmat\n",
        "from matplotlib import colors as mcolors\n",
        "from timeit import default_timer as timer\n",
        "\n",
        "print(\"Running python {}.{}\".format(sys.version_info.major, sys.version_info.minor))\n"
      ],
      "execution_count": 7,
      "outputs": [
        {
          "output_type": "stream",
          "text": [
            "Running python 3.6\n"
          ],
          "name": "stdout"
        }
      ]
    },
    {
      "cell_type": "markdown",
      "metadata": {
        "id": "_N_0EMjLIf79",
        "colab_type": "text"
      },
      "source": [
        "### nptsne.TextureTsne API"
      ]
    },
    {
      "cell_type": "code",
      "metadata": {
        "id": "6CsHjcFkIL2E",
        "colab_type": "code",
        "colab": {
          "base_uri": "https://localhost:8080/",
          "height": 1000
        },
        "outputId": "55ce7288-1455-4cfb-bcc3-a96162b6a9a6"
      },
      "source": [
        "\n",
        "import nptsne\n",
        "help(nptsne)"
      ],
      "execution_count": 8,
      "outputs": [
        {
          "output_type": "stream",
          "text": [
            "Help on package nptsne:\n",
            "\n",
            "NAME\n",
            "    nptsne\n",
            "\n",
            "PACKAGE CONTENTS\n",
            "    example\n",
            "    version\n",
            "\n",
            "SUBMODULES\n",
            "    libs\n",
            "\n",
            "CLASSES\n",
            "    pybind11_builtins.pybind11_object(builtins.object)\n",
            "        nptsne.libs._nptsne.KnnAlgorithm\n",
            "        nptsne.libs._nptsne.TextureTsne\n",
            "        nptsne.libs._nptsne.TextureTsneExtended\n",
            "    \n",
            "    class KnnAlgorithm(pybind11_builtins.pybind11_object)\n",
            "     |  Enumeration used to select the knn algorithm used. Two possibilities are\n",
            "     |  supported:\n",
            "     |  \n",
            "     |  :obj:`KnnAlgorithm.Flann`: Knn using FLANN - Fast Library for Approximate Nearest Neighbors\n",
            "     |  \n",
            "     |  :obj:`KnnAlgorithm.HNSW`: Knn using Hnswlib - fast approximate nearest neighbor search\n",
            "     |  \n",
            "     |  Method resolution order:\n",
            "     |      KnnAlgorithm\n",
            "     |      pybind11_builtins.pybind11_object\n",
            "     |      builtins.object\n",
            "     |  \n",
            "     |  Methods defined here:\n",
            "     |  \n",
            "     |  __eq__(...)\n",
            "     |      __eq__(self: nptsne.libs._nptsne.KnnAlgorithm, arg0: nptsne.libs._nptsne.KnnAlgorithm) -> bool\n",
            "     |  \n",
            "     |  __ge__(...)\n",
            "     |      __ge__(self: nptsne.libs._nptsne.KnnAlgorithm, arg0: nptsne.libs._nptsne.KnnAlgorithm) -> bool\n",
            "     |  \n",
            "     |  __getstate__(...)\n",
            "     |      __getstate__(self: nptsne.libs._nptsne.KnnAlgorithm) -> tuple\n",
            "     |  \n",
            "     |  __gt__(...)\n",
            "     |      __gt__(self: nptsne.libs._nptsne.KnnAlgorithm, arg0: nptsne.libs._nptsne.KnnAlgorithm) -> bool\n",
            "     |  \n",
            "     |  __hash__(...)\n",
            "     |      __hash__(self: nptsne.libs._nptsne.KnnAlgorithm) -> int\n",
            "     |  \n",
            "     |  __init__(...)\n",
            "     |      __init__(self: nptsne.libs._nptsne.KnnAlgorithm, arg0: int) -> None\n",
            "     |  \n",
            "     |  __int__(...)\n",
            "     |      __int__(self: nptsne.libs._nptsne.KnnAlgorithm) -> int\n",
            "     |  \n",
            "     |  __le__(...)\n",
            "     |      __le__(self: nptsne.libs._nptsne.KnnAlgorithm, arg0: nptsne.libs._nptsne.KnnAlgorithm) -> bool\n",
            "     |  \n",
            "     |  __lt__(...)\n",
            "     |      __lt__(self: nptsne.libs._nptsne.KnnAlgorithm, arg0: nptsne.libs._nptsne.KnnAlgorithm) -> bool\n",
            "     |  \n",
            "     |  __ne__(...)\n",
            "     |      __ne__(self: nptsne.libs._nptsne.KnnAlgorithm, arg0: nptsne.libs._nptsne.KnnAlgorithm) -> bool\n",
            "     |  \n",
            "     |  __repr__(...)\n",
            "     |      __repr__(self: nptsne.libs._nptsne.KnnAlgorithm) -> str\n",
            "     |  \n",
            "     |  __setstate__(...)\n",
            "     |      __setstate__(self: nptsne.libs._nptsne.KnnAlgorithm, arg0: tuple) -> None\n",
            "     |  \n",
            "     |  ----------------------------------------------------------------------\n",
            "     |  Data descriptors defined here:\n",
            "     |  \n",
            "     |  __members__\n",
            "     |  \n",
            "     |  ----------------------------------------------------------------------\n",
            "     |  Data and other attributes defined here:\n",
            "     |  \n",
            "     |  Flann = KnnAlgorithm.Flann\n",
            "     |  \n",
            "     |  HNSW = KnnAlgorithm.HNSW\n",
            "     |  \n",
            "     |  ----------------------------------------------------------------------\n",
            "     |  Methods inherited from pybind11_builtins.pybind11_object:\n",
            "     |  \n",
            "     |  __new__(*args, **kwargs) from pybind11_builtins.pybind11_type\n",
            "     |      Create and return a new object.  See help(type) for accurate signature.\n",
            "    \n",
            "    class TextureTsne(pybind11_builtins.pybind11_object)\n",
            "     |  TextureTsne: a simple wrapper API for the linear tSNE implementation.\n",
            "     |  \n",
            "     |      TextureTsne is a GPU compute shader implementation of the gradient descent\n",
            "     |      linear tSNE described in https://doi.org/10.1109/TVCG.2019.2934307 or https://arxiv.org/abs/1805.10817v2\n",
            "     |  \n",
            "     |  Method resolution order:\n",
            "     |      TextureTsne\n",
            "     |      pybind11_builtins.pybind11_object\n",
            "     |      builtins.object\n",
            "     |  \n",
            "     |  Methods defined here:\n",
            "     |  \n",
            "     |  __init__(...)\n",
            "     |      __init__(self: nptsne.libs._nptsne.TextureTsne, verbose: bool=False, iterations: int=1000, num_target_dimensions: int=2, perplexity: int=30, exaggeration_iter: int=250, knn_algorithm: nptsne.libs._nptsne.KnnAlgorithm=KnnAlgorithm.Flann) -> None\n",
            "     |      \n",
            "     |      \n",
            "     |      :param verbose: Enable verbose logging to standard output\n",
            "     |      :type verbose: bool\n",
            "     |      \n",
            "     |      :param iterations: The number of iterations to perform. This must be at least 1000.\n",
            "     |      :type iterations: int\n",
            "     |      \n",
            "     |      :param num_target_dimensions: The number of dimensions for the output embedding. Default is 2.\n",
            "     |      :type num_target_dimensions: int\n",
            "     |      \n",
            "     |      :param perplexity: The tSNE parameter that defines the neighborhood size. Usually between 10 and 30. Default is 30.\n",
            "     |      :type perplexity: int\n",
            "     |      \n",
            "     |      :param exaggeration_iter: The iteration when force exaggeration starts to decay.\n",
            "     |      :type exaggeration_iter: int\n",
            "     |      \n",
            "     |      :param knn_algorithm: The knn algorithm used for the nearest neighbor calculation. The default is 'Flann' for less than 50 dimensions 'HNSW' may be faster\n",
            "     |      :type knn_algorithm: str\n",
            "     |  \n",
            "     |  fit_transform(...)\n",
            "     |      fit_transform(self: nptsne.libs._nptsne.TextureTsne, X: numpy.ndarray[float32]) -> numpy.ndarray[float32]\n",
            "     |      \n",
            "     |      \n",
            "     |      Fit X into an embedded space and return that transformed output.\n",
            "     |      \n",
            "     |      :param X: The iput data with shape (num. data points, num. dimensions)\n",
            "     |      :type X: ndarray\n",
            "     |      \n",
            "     |      :return: A numpy array contain a flatten (1D) embedding\n",
            "     |      :rtype: ndarray\n",
            "     |  \n",
            "     |  ----------------------------------------------------------------------\n",
            "     |  Methods inherited from pybind11_builtins.pybind11_object:\n",
            "     |  \n",
            "     |  __new__(*args, **kwargs) from pybind11_builtins.pybind11_type\n",
            "     |      Create and return a new object.  See help(type) for accurate signature.\n",
            "    \n",
            "    class TextureTsneExtended(pybind11_builtins.pybind11_object)\n",
            "     |  TextureTsneExtended: an advanced wrapper API for the linear tSNE implementation.\n",
            "     |  \n",
            "     |  TextureTsneExtended offers additional control over the exaggeration decay\n",
            "     |  along with the ability to input an initial embedding.\n",
            "     |  Based on the linear tSNE algorithm described in https://arxiv.org/abs/1805.10817v2/\n",
            "     |  \n",
            "     |  Method resolution order:\n",
            "     |      TextureTsneExtended\n",
            "     |      pybind11_builtins.pybind11_object\n",
            "     |      builtins.object\n",
            "     |  \n",
            "     |  Methods defined here:\n",
            "     |  \n",
            "     |  __init__(...)\n",
            "     |      __init__(self: nptsne.libs._nptsne.TextureTsneExtended, verbose: bool=False, num_target_dimensions: int=2, perplexity: int=30, knn_algorithm: nptsne.libs._nptsne.KnnAlgorithm=KnnAlgorithm.Flann) -> None\n",
            "     |      \n",
            "     |      \n",
            "     |      :param verbose: Enable verbose logging to standard output\n",
            "     |      :type verbose: bool\n",
            "     |      \n",
            "     |      :param num_target_dimensions: The number of dimensions for the output embedding. Default is 2.\n",
            "     |      :type num_target_dimensions: int\n",
            "     |      \n",
            "     |      :param perplexity: The tSNE parameter that defines the neighborhood size. Usually between 10 and 30. Default is 30.\n",
            "     |      :type perplexity: int\n",
            "     |      \n",
            "     |      :param knn_algorithm: The knn algorithm used for the nearest neighbor calculation. The default is 'Flann' for less than 50 dimensions 'HNSW' may be faster\n",
            "     |      :type knn_algorithm: str\n",
            "     |  \n",
            "     |  close(...)\n",
            "     |      close(self: nptsne.libs._nptsne.TextureTsneExtended) -> None\n",
            "     |      \n",
            "     |      \n",
            "     |      Release GPU resources for the transform\n",
            "     |  \n",
            "     |  init_transform(...)\n",
            "     |      init_transform(self: nptsne.libs._nptsne.TextureTsneExtended, X: numpy.ndarray[float32], initial_embedding: numpy.ndarray[float32]=array([], dtype=float32)) -> bool\n",
            "     |      \n",
            "     |      \n",
            "     |      Fit X into an embedded space and return that transformed output.\n",
            "     |        \n",
            "     |      :param X: The iput data with shape (num. data points, num. dimensions)\n",
            "     |      :type X: ndarray\n",
            "     |      \n",
            "     |      :param initial_embedding: An optional initial embedding. Shape should be (num data points, num output dimensions)\n",
            "     |      :type initial_embedding: ndarray\n",
            "     |  \n",
            "     |  reinitialize_transform(...)\n",
            "     |      reinitialize_transform(self: nptsne.libs._nptsne.TextureTsneExtended, initial_embedding: numpy.ndarray[float32]=array([], dtype=float32)) -> None\n",
            "     |      \n",
            "     |      \n",
            "     |      Fit X into an embedded space and return that transformed output.\n",
            "     |      Knn is not recomputed. If no initial_embedding is supplied the embedding\n",
            "     |      is re-randomized.\n",
            "     |        \n",
            "     |      :param initial_embedding: An optional initial embedding. Shape should be (num data points, num output dimensions)\n",
            "     |      :type initial_embedding: ndarray\n",
            "     |  \n",
            "     |  run_transform(...)\n",
            "     |      run_transform(self: nptsne.libs._nptsne.TextureTsneExtended, verbose: bool=False, iterations: int=1000) -> numpy.ndarray[float32]\n",
            "     |      \n",
            "     |      \n",
            "     |      Run the transform gradient descent for a number of iterations\n",
            "     |      with the current settings for exaggeration.\n",
            "     |      \n",
            "     |      :param verbose: Enable verbose logging to standard output\n",
            "     |      :type verbose: bool\n",
            "     |      \n",
            "     |      :param iterations: the number of iterations to run\n",
            "     |      :type iterations: int\n",
            "     |        \n",
            "     |      :return: A numpy array contain a flatten (1D) embedding\n",
            "     |      :rtype: ndarray\n",
            "     |  \n",
            "     |  start_exaggeration_decay(...)\n",
            "     |      start_exaggeration_decay(self: nptsne.libs._nptsne.TextureTsneExtended) -> None\n",
            "     |      \n",
            "     |      \n",
            "     |      Enable exaggeration decay. Effective on next call to run_transform.\n",
            "     |      Exaggeration decay is fixed at 150 iterations. This call is ony effective once.\n",
            "     |        \n",
            "     |      Raises: RuntimeError if the decay is already active. This can be ignored.\n",
            "     |  \n",
            "     |  ----------------------------------------------------------------------\n",
            "     |  Data descriptors defined here:\n",
            "     |  \n",
            "     |  decay_started_at\n",
            "     |      The iteration number when exaggeration decay started.\n",
            "     |        \n",
            "     |      :return: -1 if decays has not started.\n",
            "     |      :rtype: int\n",
            "     |  \n",
            "     |  iteration_count\n",
            "     |      The number of completed iterations of tSNE gradient descent.\n",
            "     |        \n",
            "     |      :return: iteration_count\n",
            "     |      :rtype: int\n",
            "     |  \n",
            "     |  ----------------------------------------------------------------------\n",
            "     |  Methods inherited from pybind11_builtins.pybind11_object:\n",
            "     |  \n",
            "     |  __new__(*args, **kwargs) from pybind11_builtins.pybind11_type\n",
            "     |      Create and return a new object.  See help(type) for accurate signature.\n",
            "\n",
            "DATA\n",
            "    __all__ = ('TextureTsne', 'TextureTsneExtended', 'KnnAlgorithm')\n",
            "\n",
            "VERSION\n",
            "    1.0.0\n",
            "\n",
            "FILE\n",
            "    /usr/local/lib/python3.6/dist-packages/nptsne/__init__.py\n",
            "\n",
            "\n"
          ],
          "name": "stdout"
        }
      ]
    },
    {
      "cell_type": "code",
      "metadata": {
        "id": "BVHNUsG2INSi",
        "colab_type": "code",
        "colab": {
          "base_uri": "https://localhost:8080/",
          "height": 1000
        },
        "outputId": "bc6030c7-d4a8-4a69-bdfd-e0aaf980d58e"
      },
      "source": [
        "from nptsne import KnnAlgorithm\n",
        "help(KnnAlgorithm)"
      ],
      "execution_count": 9,
      "outputs": [
        {
          "output_type": "stream",
          "text": [
            "Help on class KnnAlgorithm in module nptsne.libs._nptsne:\n",
            "\n",
            "class KnnAlgorithm(pybind11_builtins.pybind11_object)\n",
            " |  Enumeration used to select the knn algorithm used. Two possibilities are\n",
            " |  supported:\n",
            " |  \n",
            " |  :obj:`KnnAlgorithm.Flann`: Knn using FLANN - Fast Library for Approximate Nearest Neighbors\n",
            " |  \n",
            " |  :obj:`KnnAlgorithm.HNSW`: Knn using Hnswlib - fast approximate nearest neighbor search\n",
            " |  \n",
            " |  Method resolution order:\n",
            " |      KnnAlgorithm\n",
            " |      pybind11_builtins.pybind11_object\n",
            " |      builtins.object\n",
            " |  \n",
            " |  Methods defined here:\n",
            " |  \n",
            " |  __eq__(...)\n",
            " |      __eq__(self: nptsne.libs._nptsne.KnnAlgorithm, arg0: nptsne.libs._nptsne.KnnAlgorithm) -> bool\n",
            " |  \n",
            " |  __ge__(...)\n",
            " |      __ge__(self: nptsne.libs._nptsne.KnnAlgorithm, arg0: nptsne.libs._nptsne.KnnAlgorithm) -> bool\n",
            " |  \n",
            " |  __getstate__(...)\n",
            " |      __getstate__(self: nptsne.libs._nptsne.KnnAlgorithm) -> tuple\n",
            " |  \n",
            " |  __gt__(...)\n",
            " |      __gt__(self: nptsne.libs._nptsne.KnnAlgorithm, arg0: nptsne.libs._nptsne.KnnAlgorithm) -> bool\n",
            " |  \n",
            " |  __hash__(...)\n",
            " |      __hash__(self: nptsne.libs._nptsne.KnnAlgorithm) -> int\n",
            " |  \n",
            " |  __init__(...)\n",
            " |      __init__(self: nptsne.libs._nptsne.KnnAlgorithm, arg0: int) -> None\n",
            " |  \n",
            " |  __int__(...)\n",
            " |      __int__(self: nptsne.libs._nptsne.KnnAlgorithm) -> int\n",
            " |  \n",
            " |  __le__(...)\n",
            " |      __le__(self: nptsne.libs._nptsne.KnnAlgorithm, arg0: nptsne.libs._nptsne.KnnAlgorithm) -> bool\n",
            " |  \n",
            " |  __lt__(...)\n",
            " |      __lt__(self: nptsne.libs._nptsne.KnnAlgorithm, arg0: nptsne.libs._nptsne.KnnAlgorithm) -> bool\n",
            " |  \n",
            " |  __ne__(...)\n",
            " |      __ne__(self: nptsne.libs._nptsne.KnnAlgorithm, arg0: nptsne.libs._nptsne.KnnAlgorithm) -> bool\n",
            " |  \n",
            " |  __repr__(...)\n",
            " |      __repr__(self: nptsne.libs._nptsne.KnnAlgorithm) -> str\n",
            " |  \n",
            " |  __setstate__(...)\n",
            " |      __setstate__(self: nptsne.libs._nptsne.KnnAlgorithm, arg0: tuple) -> None\n",
            " |  \n",
            " |  ----------------------------------------------------------------------\n",
            " |  Data descriptors defined here:\n",
            " |  \n",
            " |  __members__\n",
            " |  \n",
            " |  ----------------------------------------------------------------------\n",
            " |  Data and other attributes defined here:\n",
            " |  \n",
            " |  Flann = KnnAlgorithm.Flann\n",
            " |  \n",
            " |  HNSW = KnnAlgorithm.HNSW\n",
            " |  \n",
            " |  ----------------------------------------------------------------------\n",
            " |  Methods inherited from pybind11_builtins.pybind11_object:\n",
            " |  \n",
            " |  __new__(*args, **kwargs) from pybind11_builtins.pybind11_type\n",
            " |      Create and return a new object.  See help(type) for accurate signature.\n",
            "\n"
          ],
          "name": "stdout"
        }
      ]
    },
    {
      "cell_type": "markdown",
      "metadata": {
        "id": "ilXKoDXtJNRB",
        "colab_type": "text"
      },
      "source": [
        "### Download minist data for use in the demos"
      ]
    },
    {
      "cell_type": "code",
      "metadata": {
        "id": "nsytLDlUJPos",
        "colab_type": "code",
        "colab": {
          "base_uri": "https://localhost:8080/",
          "height": 34
        },
        "outputId": "effef1ad-98df-4f03-ab22-0e4781c4e045"
      },
      "source": [
        "import os \n",
        "\n",
        "mnist_path = 'mnist-original.mat'\n",
        "if not os.path.isfile(mnist_path):\n",
        "    mnist_alternative_url = 'https://github.com/amplab/datascience-sp14/raw/master/lab7/mldata/mnist-original.mat'\n",
        "    response = urllib.request.urlopen(mnist_alternative_url)\n",
        "    with open(mnist_path, 'wb') as f:\n",
        "        content = response.read()\n",
        "        f.write(content)\n",
        "mnist_raw = loadmat(mnist_path)\n",
        "mnist = {\n",
        "    'data': mnist_raw['data'].T,\n",
        "    'label': mnist_raw['label'][0],\n",
        "    'COL_NAMES': ['label', 'data']\n",
        "}\n",
        "print('Mnist data dimenstions: ', mnist['data'].shape)"
      ],
      "execution_count": 10,
      "outputs": [
        {
          "output_type": "stream",
          "text": [
            "Mnist data dimenstions:  (70000, 784)\n"
          ],
          "name": "stdout"
        }
      ]
    },
    {
      "cell_type": "markdown",
      "metadata": {
        "id": "diNsrGlCJbY7",
        "colab_type": "text"
      },
      "source": [
        "### Create a tSNE embedding of the 70000 MNIST data points & display the elapsed time\n"
      ]
    },
    {
      "cell_type": "code",
      "metadata": {
        "id": "--YqRjP6JedA",
        "colab_type": "code",
        "colab": {
          "base_uri": "https://localhost:8080/",
          "height": 50
        },
        "outputId": "615f02f2-94fe-4b82-d3c7-1db060e5cdfe"
      },
      "source": [
        "tsne = nptsne.TextureTsne(False,1000,2,30,800, nptsne.KnnAlgorithm.Flann)\n",
        "#Can also be run with knn as HNSW: this works faster in very large datasets lower dimensional data (<40 dimensions)\n",
        "#tsne = nptsne.TextureTsne(False,1000,2,30,800, nptsne.nptsne.KnnAlgorithm.HNSW)\n",
        "\n",
        "embedding = None\n",
        "try:\n",
        "   \n",
        "    for i in range(1):\n",
        "        start = timer()\n",
        "        embedding = tsne.fit_transform(mnist['data'])\n",
        "        end = timer()\n",
        "        print(f'got embedding in {end - start}')\n",
        "except Exception as ex:\n",
        "    print('Error....')\n",
        "    print(ex)"
      ],
      "execution_count": 11,
      "outputs": [
        {
          "output_type": "stream",
          "text": [
            "Error....\n",
            "Unable to initialize GLFW.\n"
          ],
          "name": "stdout"
        }
      ]
    }
  ]
}