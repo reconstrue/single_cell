{
  "nbformat": 4,
  "nbformat_minor": 0,
  "metadata": {
    "accelerator": "GPU",
    "colab": {
      "name": "rapids_umap_on_colab_test_drive.ipynb",
      "provenance": [],
      "collapsed_sections": [],
      "toc_visible": true
    },
    "kernelspec": {
      "name": "python3",
      "display_name": "Python 3"
    },
    "language_info": {
      "codemirror_mode": {
        "name": "ipython",
        "version": 3
      },
      "file_extension": ".py",
      "mimetype": "text/x-python",
      "name": "python",
      "nbconvert_exporter": "python",
      "pygments_lexer": "ipython3",
      "version": "3.7.2"
    }
  },
  "cells": [
    {
      "cell_type": "markdown",
      "metadata": {
        "id": "Jrl1ldzM0bNa",
        "colab_type": "text"
      },
      "source": [
        "# Reconstrue\n",
        "\n",
        "# <img src=\"http://reconstrue.com/assets/images/reconstrue_logo_brandmark.svg\" width=\"42px\" align=\"top\" /> **Reconstrue**\n",
        "\n",
        "## Legal\n",
        "\n",
        "This code is licensed by Reconstrue under the Apache 2.0 License.\n",
        "\n",
        "Reconstrue's work on this started from notebooks in the Rapids' repo, [notebook-contrib](https://github.com/rapidsai/notebooks-contrib) which is licensed licensed under the [Apache License 2.0](https://github.com/rapidsai/notebooks-contrib/blob/branch-0.11/LICENSE):\n",
        "- [umap_demo.ipynb](https://github.com/rapidsai/notebooks-contrib/blob/branch-0.11/colab_notebooks/cuml/umap_demo.ipynb)\n",
        "- [09_Introduction_to_Dimensionality_Reduction.ipynb](https://github.com/rapidsai/notebooks-contrib/blob/branch-0.11/getting_started_notebooks/intro_tutorials/09_Introduction_to_Dimensionality_Reduction.ipynb)"
      ]
    },
    {
      "cell_type": "markdown",
      "metadata": {
        "id": "860BsKklOucV",
        "colab_type": "text"
      },
      "source": [
        "## Introduction\n",
        "\n",
        "This notebook exercises Rapids' GPU accelerated UMAP implementation, on Colab. This is just a proof of concept test drive, nothing single-cell specific, nor large datasets. \n"
      ]
    },
    {
      "cell_type": "markdown",
      "metadata": {
        "id": "-vqB-Js1derL",
        "colab_type": "text"
      },
      "source": [
        "## Detect GPU\n",
        "\n",
        "On Colab, you have to explicitly request a GPU. As of late 2019, there are three that have been seen recently\n",
        "- Tesla P100\n",
        "- Tesla T4\n",
        "- Tesla K80\n",
        "\n",
        "The first two work with Rapids, the K80 does not. Let's make sure we have one that works with Rapids."
      ]
    },
    {
      "cell_type": "code",
      "metadata": {
        "id": "sOa0Vhf-cjXP",
        "colab_type": "code",
        "colab": {}
      },
      "source": [
        "# This cell's code works on Colab, but a more elegant way to do the same is !nvidia-smi\n",
        "# Former is JSON, latter is ASCII table which looks better in cell output.\n",
        "\n",
        "#from tensorflow.python.client import device_lib\n",
        "#\n",
        "# First let's ask for TF 2.x, not 1.x\n",
        "#try:\n",
        "#  # %tensorflow_version is a Colab-only thing \n",
        "#  %tensorflow_version 2.x\n",
        "#except Exception:\n",
        "#  print(\"TensorFlow 2.x does not seem to be available\")\n",
        "#device_lib.list_local_devices()"
      ],
      "execution_count": 0,
      "outputs": []
    },
    {
      "cell_type": "code",
      "metadata": {
        "id": "1mWr9euvK5aG",
        "colab_type": "code",
        "colab": {}
      },
      "source": [
        "!nvidia-smi"
      ],
      "execution_count": 0,
      "outputs": []
    },
    {
      "cell_type": "markdown",
      "metadata": {
        "id": "7Ue0n5ThxIiJ",
        "colab_type": "text"
      },
      "source": [
        "Complaints of `communicate with the NVIDIA driver` means that the VM does not have any GPU."
      ]
    },
    {
      "cell_type": "markdown",
      "metadata": {
        "colab_type": "text",
        "id": "MIpHYhJP7sGy"
      },
      "source": [
        "## UMAP backgrounder\n",
        "UMAP is a dimensionality reduction algorithm which performs non-linear dimension reduction. \n",
        "- It can also be used for visualization of the dataset. \n",
        "\n",
        "The UMAP model implemented in cuml allows the user to set the following parameter values:\n",
        "1.\t`n_neighbors`: number of neighboring samples used for manifold approximation. Larger values result in more global views of the manifold, while smaller values result in more local data being preserved (default = 15)\n",
        "2.\t`n_components`: the dimension of the space to embed into (default = 2)\n",
        "3.\t`n_epochs`: number of training epochs to be used in optimizing the low dimensional embedding (default = None)\n",
        "4.\t`learning_rate`: initial learning rate for the embedding optimization (default = 1.0)\n",
        "5.\t`init`: the low dimensional embedding to use: a. 'spectral': use a spectral embedding of the fuzzy 1-skeleton b. 'random': assign initial embedding positions at random (default = 'spectral')\n",
        "6.\t`min_dist`: the minimum distance that should be present between embedded points (default = 0.1)\n",
        "7.\t`spread`: determines how clustered the embedded points will be (default = 1.0)\n",
        "8.\t`set_op_mix_ratio`: is the ratio of pure fuzzy union to intersection. If the value is 1.0 then it will be a pure fuzzy union and for the value of 0.0 it will be a pure fuzzy interpolation (default = 1.0)\n",
        "9.\t`local_connectivity`: number of nearest neighbors that should be assumed to be connected at a local level. It should be not more than the local intrinsic dimension of the manifold (default = 1)\n",
        "10.\t`repulsion_strength`: weighting applied to negative samples in low dimensional embedding optimization. Values > 1 implements a higher negative value to the samples (default = 1.0)\n",
        "11.\t`negative_sample_rate`: the rate at which the negative samples should be selected per positive sample during the optimization process (default = 5)\n",
        "12.\t`transform_queue_size`: embedding new points using a trained model_ will control how aggressively to search for nearest neighbors (default = 4.0)\n",
        "13.\t`verbose`: bool (default False)\n",
        "\n",
        "The cuml implemetation of the UMAP model has the following functions that one can run:\n",
        "1.\t`fit`: it fits the dataset into an embedded space\n",
        "2.\t`fit_transform`: it fits the dataset into an embedded space and returns the transformed output\n",
        "3.\t`transform`: it transforms the dataset into an existing embedded space and returns the low dimensional output\n",
        "\n",
        "The model accepts only numpy arrays or cudf dataframes as the input. \n",
        "- In order to convert your dataset to cudf format please read the cudf [documentation](https://rapidsai.github.io/projects/cudf/en/latest/) \n",
        "- For additional information on the UMAP model please refer to the cuml [UMAP documentation](https://rapidsai.github.io/projects/cuml/en/0.6.0/api.html#cuml.UMAP) \n",
        "- This setup may take a few minutes\n",
        "- Long output (output display removed)"
      ]
    },
    {
      "cell_type": "markdown",
      "metadata": {
        "id": "slurdJ29e0Kx",
        "colab_type": "text"
      },
      "source": [
        "## Setup code environment"
      ]
    },
    {
      "cell_type": "code",
      "metadata": {
        "colab_type": "code",
        "id": "R3dg3H12-WMz",
        "colab": {}
      },
      "source": [
        "!wget -nc https://github.com/rapidsai/notebooks-extended/raw/master/utils/rapids-colab.sh\n",
        "!bash rapids-colab.sh\n",
        "\n",
        "import sys, os\n",
        "\n",
        "sys.path.append('/usr/local/lib/python3.6/site-packages/')\n",
        "os.environ['NUMBAPRO_NVVM'] = '/usr/local/cuda/nvvm/lib64/libnvvm.so'\n",
        "os.environ['NUMBAPRO_LIBDEVICE'] = '/usr/local/cuda/nvvm/libdevice/'"
      ],
      "execution_count": 0,
      "outputs": []
    },
    {
      "cell_type": "markdown",
      "metadata": {
        "id": "MYZyuWpriebo",
        "colab_type": "text"
      },
      "source": [
        "### Installation completed bell\n",
        "The above install can take a bit, and will have to be done once every 12 hours.\n",
        "\n",
        "Here's a page with a list of free bells sounds: [Bell Sound Effects](https://www.soundjay.com/bell-sound-effect.html). One of those will do as an alert that the boring prelude is over."
      ]
    },
    {
      "cell_type": "code",
      "metadata": {
        "id": "fDOj2oVCURFv",
        "colab_type": "code",
        "colab": {}
      },
      "source": [
        "import requests\n",
        "import IPython\n",
        "\n",
        "# bell_src_10_sec = \"https://www.soundjay.com/misc/bell-ring-01.mp3\"\n",
        "bell_src = \"https://www.soundjay.com/misc/bell-ringing-05.mp3\"\n",
        "bell_dest = \"/content/bell.mp3\"\n",
        "\n",
        "response = requests.get(bell_src)\n",
        "open(bell_dest, 'wb').write(response.content)\n",
        "\n",
        "IPython.display.Audio(bell_dest, autoplay=True)\n"
      ],
      "execution_count": 0,
      "outputs": []
    },
    {
      "cell_type": "markdown",
      "metadata": {
        "id": "Y0SRYgBbzYcu",
        "colab_type": "text"
      },
      "source": [
        "### Imports"
      ]
    },
    {
      "cell_type": "code",
      "metadata": {
        "colab_type": "code",
        "id": "YUWGkOZZ7sG0",
        "colab": {}
      },
      "source": [
        "import numpy as np\n",
        "import pandas as pd\n",
        "\n",
        "import cudf\n",
        "import os\n",
        "\n",
        "from sklearn import datasets\n",
        "from sklearn.metrics import adjusted_rand_score\n",
        "from sklearn.cluster import KMeans\n",
        "from sklearn.manifold.t_sne import trustworthiness\n",
        "\n",
        "from cuml.manifold.umap import UMAP"
      ],
      "execution_count": 0,
      "outputs": []
    },
    {
      "cell_type": "markdown",
      "metadata": {
        "colab_type": "text",
        "id": "o9KocJ_n7sG4"
      },
      "source": [
        "@# Running cuml's UMAP model on blobs dataset"
      ]
    },
    {
      "cell_type": "code",
      "metadata": {
        "colab_type": "code",
        "id": "Si3IagNP7sG6",
        "colab": {}
      },
      "source": [
        "# create a blobs dataset with 500 samples and 10 features each\n",
        "data, labels = datasets.make_blobs(\n",
        "    n_samples=500, n_features=10, centers=5)"
      ],
      "execution_count": 0,
      "outputs": []
    },
    {
      "cell_type": "code",
      "metadata": {
        "colab_type": "code",
        "id": "HWEATONo7sG-",
        "colab": {}
      },
      "source": [
        "# using the cuml UMAP algorithm to reduce the features of the dataset and store\n",
        "embedding = UMAP().fit_transform(data)"
      ],
      "execution_count": 0,
      "outputs": []
    },
    {
      "cell_type": "code",
      "metadata": {
        "colab_type": "code",
        "id": "auZRNg2W7sHD",
        "colab": {}
      },
      "source": [
        "# calculate the score of the results obtained using cuml's algorithm and sklearn kmeans\n",
        "score = adjusted_rand_score(labels,\n",
        "            KMeans(5).fit_predict(embedding))\n",
        "print(score) # should equal 1.0"
      ],
      "execution_count": 0,
      "outputs": []
    },
    {
      "cell_type": "markdown",
      "metadata": {
        "colab_type": "text",
        "id": "EWRiph717sHJ"
      },
      "source": [
        "## Exercise cuml's UMAP"
      ]
    },
    {
      "cell_type": "code",
      "metadata": {
        "colab_type": "code",
        "id": "OdCayMII7sHK",
        "colab": {}
      },
      "source": [
        "# load the iris dataset from sklearn and extract the required information\n",
        "iris = datasets.load_iris()\n",
        "data = iris.data"
      ],
      "execution_count": 0,
      "outputs": []
    },
    {
      "cell_type": "code",
      "metadata": {
        "colab_type": "code",
        "id": "bBU1Zcrb7sHP",
        "scrolled": true,
        "colab": {}
      },
      "source": [
        "# define the cuml UMAP model and use fit_transform function to obtain the low dimensional output of the input dataset\n",
        "embedding = UMAP(\n",
        "    n_neighbors=10, min_dist=0.01,  init=\"random\"\n",
        ").fit_transform(data)"
      ],
      "execution_count": 0,
      "outputs": []
    },
    {
      "cell_type": "code",
      "metadata": {
        "colab_type": "code",
        "id": "ZNWLwDm87sHS",
        "colab": {}
      },
      "source": [
        "# calculate the trust worthiness of the results obtaind from the cuml UMAP\n",
        "trust = trustworthiness(iris.data, embedding, 10)\n",
        "print(trust)"
      ],
      "execution_count": 0,
      "outputs": []
    },
    {
      "cell_type": "code",
      "metadata": {
        "colab_type": "code",
        "id": "Ify4jpTG7sHW",
        "colab": {}
      },
      "source": [
        "# create a selection variable which will have 75% True and 25% False values. The size of the selection variable is 150\n",
        "iris_selection = np.random.choice(\n",
        "    [True, False], 150, replace=True, p=[0.75, 0.25])\n",
        "# create an iris dataset using the selection variable\n",
        "data = iris.data[iris_selection]\n",
        "print(data)"
      ],
      "execution_count": 0,
      "outputs": []
    },
    {
      "cell_type": "code",
      "metadata": {
        "colab_type": "code",
        "id": "hcSaciYm7sHb",
        "colab": {}
      },
      "source": [
        "# create a cuml UMAP model \n",
        "fitter = UMAP(n_neighbors=10, min_dist=0.01, verbose=False)\n",
        "# fit the data created the selection variable to the cuml UMAP model created (fitter)\n",
        "fitter.fit(data)\n",
        "# create a new iris dataset by inverting the values of the selection variable (ie. 75% False and 25% True values) \n",
        "new_data = iris.data[~iris_selection]\n",
        "# transform the new data using the previously created embedded space\n",
        "embedding = fitter.transform(new_data)"
      ],
      "execution_count": 0,
      "outputs": []
    },
    {
      "cell_type": "code",
      "metadata": {
        "colab_type": "code",
        "id": "l8Xfz80-7sHg",
        "colab": {}
      },
      "source": [
        "# calculate the trustworthiness score for the new data created (new_data)\n",
        "trust = trustworthiness(new_data, embedding, 10)\n",
        "print(trust)"
      ],
      "execution_count": 0,
      "outputs": []
    },
    {
      "cell_type": "markdown",
      "metadata": {
        "id": "n93nDiCIdP1u",
        "colab_type": "text"
      },
      "source": [
        "And that's where the first notebook ended, without any viz :("
      ]
    },
    {
      "cell_type": "markdown",
      "metadata": {
        "id": "uq5aZ7AHIstb",
        "colab_type": "text"
      },
      "source": [
        "### Continuing to viz"
      ]
    },
    {
      "cell_type": "code",
      "metadata": {
        "id": "sFEecxknIsRz",
        "colab_type": "code",
        "colab": {}
      },
      "source": [
        "# TODO: not working yet:\n",
        "\n",
        "# embedding is the final thing produces int umap_demo.ipynb\n",
        "import matplotlib.pyplot as plt\n",
        "\n",
        "colors = ['blue', 'orange', 'green', 'red', 'purple', \n",
        "          'brown', 'pink', 'gray', 'olive', 'cyan']\n",
        "colors = ['tab:' + color for color in colors]\n",
        "\n",
        "# create figure\n",
        "figure = plt.figure()\n",
        "axis = figure.add_subplot(111)\n",
        "\n",
        "for i in range(10):\n",
        "    mask = y == i\n",
        "    axis.scatter(embedding[mask, 0], embedding[mask, 1], \n",
        "                 c=colors[i], label=str(i))\n",
        "axis.set_title('UMAP (gpu)')\n",
        "\n",
        "plt.legend()\n",
        "plt.tight_layout()\n",
        "plt.show()"
      ],
      "execution_count": 0,
      "outputs": []
    },
    {
      "cell_type": "markdown",
      "metadata": {
        "id": "ENtUkyKbc5I8",
        "colab_type": "text"
      },
      "source": [
        "## Stuff from Intro to DR notebook\n",
        "\n",
        "Repo `rapidsai/notebooks-contrib` has [09_Introduction_to_Dimensionality_Reduction.ipynb](https://github.com/rapidsai/notebooks-contrib/blob/branch-0.11/getting_started_notebooks/intro_tutorials/09_Introduction_to_Dimensionality_Reduction.ipynb), which does have a viz or two.\n",
        "\n",
        "First notice the distinct inports:\n",
        "```\n",
        "# umap_demo.ipynb\n",
        "from cuml.manifold.umap import UMAP\n",
        "\n",
        "# 09_Introduction_to_Dimensionality_Reduction.ipynb\n",
        "from cuml import UMAP as UMAP_GPU\n",
        "\n",
        "```"
      ]
    },
    {
      "cell_type": "code",
      "metadata": {
        "id": "_b7YAEnDvsD5",
        "colab_type": "code",
        "colab": {}
      },
      "source": [
        "import numpy as np; print('NumPy Version:', np.__version__)\n",
        "import sklearn; print('Scikit-Learn Version:', sklearn.__version__)\n",
        "from sklearn.datasets import load_digits\n",
        "\n",
        "\n",
        "digits = load_digits()\n",
        "X, y = digits['data'], digits['target']\n",
        "X, y = X.astype(np.float32), y.astype(np.float32)\n",
        "print('X: ', X.shape, X.dtype, 'y: ', y.shape, y.dtype)"
      ],
      "execution_count": 0,
      "outputs": []
    },
    {
      "cell_type": "code",
      "metadata": {
        "id": "ec5dvVNYwmLy",
        "colab_type": "code",
        "colab": {}
      },
      "source": [
        "# create figure\n",
        "import matplotlib.pyplot as plt\n",
        "figure = plt.figure()\n",
        "f, axes = plt.subplots(4, 4, figsize=(10, 10))\n",
        "\n",
        "i = 0\n",
        "for row in axes:\n",
        "    for axis in row:\n",
        "        axis.imshow(X[i].reshape(8, 8), cmap='gray')\n",
        "        axis.set_title('Class: ' + str(int(y[i])))\n",
        "        i += 1\n",
        "    \n",
        "plt.tight_layout()\n",
        "plt.show()\n"
      ],
      "execution_count": 0,
      "outputs": []
    },
    {
      "cell_type": "code",
      "metadata": {
        "id": "7PUQDRbH16tH",
        "colab_type": "code",
        "colab": {}
      },
      "source": [
        "X_df = pd.DataFrame(X)\n",
        "X_df.columns = ['feature_' + str(i) for i in range(X_df.shape[1])]\n",
        "X_cudf = cudf.DataFrame.from_pandas(X_df)"
      ],
      "execution_count": 0,
      "outputs": []
    },
    {
      "cell_type": "code",
      "metadata": {
        "id": "Kn3tZnuzwuE8",
        "colab_type": "code",
        "colab": {}
      },
      "source": [
        "from cuml import UMAP as UMAP_GPU\n",
        "umap_gpu = UMAP_GPU(n_neighbors=10, n_components=2)"
      ],
      "execution_count": 0,
      "outputs": []
    },
    {
      "cell_type": "code",
      "metadata": {
        "id": "GJTpjYBPwzwR",
        "colab_type": "code",
        "colab": {}
      },
      "source": [
        "components_gpu = umap_gpu.fit_transform(X_cudf).to_pandas().values\n",
        "components_gpu"
      ],
      "execution_count": 0,
      "outputs": []
    },
    {
      "cell_type": "code",
      "metadata": {
        "id": "W5AD3vWRed-E",
        "colab_type": "code",
        "colab": {}
      },
      "source": [
        "import matplotlib.pyplot as plt\n",
        "\n",
        "colors = ['blue', 'orange', 'green', 'red', 'purple', \n",
        "          'brown', 'pink', 'gray', 'olive', 'cyan']\n",
        "colors = ['tab:' + color for color in colors]\n",
        "\n",
        "# create figure\n",
        "figure = plt.figure()\n",
        "axis = figure.add_subplot(111)\n",
        "\n",
        "for i in range(10):\n",
        "    mask = y == i\n",
        "    axis.scatter(components_gpu[mask, 0], components_gpu[mask, 1], \n",
        "                 c=colors[i], label=str(i))\n",
        "axis.set_title('UMAP (gpu)')\n",
        "\n",
        "plt.legend()\n",
        "plt.tight_layout()\n",
        "plt.show()"
      ],
      "execution_count": 0,
      "outputs": []
    },
    {
      "cell_type": "code",
      "metadata": {
        "id": "ifv-Pf_Djm2-",
        "colab_type": "code",
        "colab": {}
      },
      "source": [
        ""
      ],
      "execution_count": 0,
      "outputs": []
    }
  ]
}