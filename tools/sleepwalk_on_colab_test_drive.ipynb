{
  "nbformat": 4,
  "nbformat_minor": 0,
  "metadata": {
    "kernelspec": {
      "display_name": "R",
      "language": "R",
      "name": "ir"
    },
    "language_info": {
      "codemirror_mode": "r",
      "file_extension": ".r",
      "mimetype": "text/x-r-source",
      "name": "R",
      "pygments_lexer": "r",
      "version": "3.3.1"
    },
    "colab": {
      "name": "sleepwalk_on_colab_test_drive.ipynb",
      "provenance": [],
      "collapsed_sections": [],
      "toc_visible": true
    }
  },
  "cells": [
    {
      "cell_type": "markdown",
      "metadata": {
        "id": "Q4QQgonRP6rG",
        "colab_type": "text"
      },
      "source": [
        "# Sleepwalk on Colab test drive\n",
        "\n",
        "- Reconstrue\n",
        "- Link back to Readme.md with `Open in Colab`s\n",
        "\n",
        "This notebook simply tests if Sleepwalk can be deployed on Colab, hopefully even viewing the dynamic output in Colab or as a fallback simply generate the web view statics pages and copy them to some storage."
      ]
    },
    {
      "cell_type": "markdown",
      "metadata": {
        "id": "6H27sl81NFZ0",
        "colab_type": "text"
      },
      "source": [
        "## Configure platform\n",
        "\n",
        "This notebook started from [a demo R-on-Colab notebook](https://github.com/IRkernel/IRkernel/blob/master/example-notebooks/Demo.ipynb), which contains the correct metadata in the JSON in the .ipynb to get Colab to spin up an R session without. So, the notebook started blank (but R) and then the sleepwalk demo code was cut&pasted into it."
      ]
    },
    {
      "cell_type": "code",
      "metadata": {
        "id": "WHS9NpwePHNN",
        "colab_type": "code",
        "colab": {}
      },
      "source": [
        "system(\"apt-get install libpoppler-cpp-dev\")   # for antiwar\n",
        "system(\"apt-get install libapparmor-dev\")      # for unrtf"
      ],
      "execution_count": 0,
      "outputs": []
    },
    {
      "cell_type": "code",
      "metadata": {
        "id": "H7mWFUaNNLiV",
        "colab_type": "code",
        "outputId": "675d3e89-3e44-473c-fd7e-191df632df6f",
        "colab": {
          "base_uri": "https://localhost:8080/",
          "height": 67
        }
      },
      "source": [
        "if (!requireNamespace(\"BiocManager\", quietly = TRUE))\n",
        "    install.packages(\"BiocManager\")\n",
        "BiocManager::install()\n"
      ],
      "execution_count": 2,
      "outputs": [
        {
          "output_type": "stream",
          "text": [
            "Bioconductor version 3.10 (BiocManager 1.30.10), R 3.6.1 (2019-07-05)\n",
            "Old packages: 'digest', 'rlang', 'roxygen2', 'rprojroot', 'scales', 'selectr',\n",
            "  'tidyverse', 'xtable'\n"
          ],
          "name": "stderr"
        }
      ]
    },
    {
      "cell_type": "code",
      "metadata": {
        "id": "wSWFd-Z1NRwp",
        "colab_type": "code",
        "outputId": "297adb83-cebf-4521-816c-ff43190af330",
        "colab": {
          "base_uri": "https://localhost:8080/",
          "height": 773
        }
      },
      "source": [
        "BiocManager::valid()"
      ],
      "execution_count": 3,
      "outputs": [
        {
          "output_type": "stream",
          "text": [
            "Warning message:\n",
            "“8 packages out-of-date; 0 packages too new”"
          ],
          "name": "stderr"
        },
        {
          "output_type": "display_data",
          "data": {
            "text/plain": [
              "\n",
              "* sessionInfo()\n",
              "\n",
              "R version 3.6.1 (2019-07-05)\n",
              "Platform: x86_64-pc-linux-gnu (64-bit)\n",
              "Running under: Ubuntu 18.04.3 LTS\n",
              "\n",
              "Matrix products: default\n",
              "BLAS:   /usr/lib/x86_64-linux-gnu/openblas/libblas.so.3\n",
              "LAPACK: /usr/lib/x86_64-linux-gnu/libopenblasp-r0.2.20.so\n",
              "\n",
              "locale:\n",
              " [1] LC_CTYPE=en_US.UTF-8       LC_NUMERIC=C              \n",
              " [3] LC_TIME=en_US.UTF-8        LC_COLLATE=en_US.UTF-8    \n",
              " [5] LC_MONETARY=en_US.UTF-8    LC_MESSAGES=en_US.UTF-8   \n",
              " [7] LC_PAPER=en_US.UTF-8       LC_NAME=C                 \n",
              " [9] LC_ADDRESS=C               LC_TELEPHONE=C            \n",
              "[11] LC_MEASUREMENT=en_US.UTF-8 LC_IDENTIFICATION=C       \n",
              "\n",
              "attached base packages:\n",
              "[1] stats     graphics  grDevices utils     datasets  methods   base     \n",
              "\n",
              "loaded via a namespace (and not attached):\n",
              " [1] BiocManager_1.30.10 compiler_3.6.1      IRdisplay_0.7.0    \n",
              " [4] pbdZMQ_0.3-3        tools_3.6.1         htmltools_0.4.0    \n",
              " [7] pillar_1.4.2        base64enc_0.1-3     crayon_1.3.4       \n",
              "[10] Rcpp_1.0.3          uuid_0.1-2          IRkernel_1.0.2     \n",
              "[13] jsonlite_1.6        digest_0.6.22       repr_1.0.1         \n",
              "[16] rlang_0.4.1         evaluate_0.14      \n",
              "\n",
              "Bioconductor version '3.10'\n",
              "\n",
              "  * 8 packages out-of-date\n",
              "  * 0 packages too new\n",
              "\n",
              "create a valid installation with\n",
              "\n",
              "  BiocManager::install(c(\n",
              "    \"digest\", \"rlang\", \"roxygen2\", \"rprojroot\", \"scales\", \"selectr\",\n",
              "    \"tidyverse\", \"xtable\"\n",
              "  ), update = TRUE, ask = FALSE)\n",
              "\n",
              "more details: BiocManager::valid()$too_new, BiocManager::valid()$out_of_date\n"
            ]
          },
          "metadata": {
            "tags": []
          }
        }
      ]
    },
    {
      "cell_type": "markdown",
      "metadata": {
        "id": "QLAINH78Nc3u",
        "colab_type": "text"
      },
      "source": [
        "## Install sleepwalk\n",
        "\n",
        "https://anders-biostat.github.io/sleepwalk/"
      ]
    },
    {
      "cell_type": "code",
      "metadata": {
        "id": "iQ3SK_3JNbuB",
        "colab_type": "code",
        "outputId": "0a72b99a-b86b-43ee-dd0b-3417fa826703",
        "colab": {
          "base_uri": "https://localhost:8080/",
          "height": 50
        }
      },
      "source": [
        "install.packages( \"sleepwalk\" )"
      ],
      "execution_count": 4,
      "outputs": [
        {
          "output_type": "stream",
          "text": [
            "Installing package into ‘/usr/local/lib/R/site-library’\n",
            "(as ‘lib’ is unspecified)\n"
          ],
          "name": "stderr"
        }
      ]
    },
    {
      "cell_type": "markdown",
      "metadata": {
        "id": "6OH3VQCZPmPQ",
        "colab_type": "text"
      },
      "source": [
        "## Test drive sleepwalk\n",
        "\n",
        "After successfully installing the code on Colab, let's take it for a test drive. There is a notebook in sleepwalk's repo, [Demo1.R](https://github.com/anders-biostat/sleepwalk/blob/master/test/demo1.R) which walks through the basic. This notebook takes that code and gets it running on Colab.\n",
        "\n",
        "Some relevant links:\n",
        "- [Rtsne on CRAN](https://cran.r-project.org/web/packages/Rtsne/index.html)"
      ]
    },
    {
      "cell_type": "code",
      "metadata": {
        "id": "-yIoHSzGMiKj",
        "colab_type": "code",
        "colab": {}
      },
      "source": [
        "library(readtext)"
      ],
      "execution_count": 0,
      "outputs": []
    },
    {
      "cell_type": "code",
      "metadata": {
        "id": "wS0zGGLoRs_p",
        "colab_type": "code",
        "outputId": "af8c7d72-4677-41f1-f18a-6ccbbb493f5e",
        "colab": {
          "base_uri": "https://localhost:8080/",
          "height": 34
        }
      },
      "source": [
        "# TODO: Installs are slow, so only install that which is not already installed.\n",
        "# Via: https://stackoverflow.com/a/4090208\n",
        "\n",
        "dependency_packages <- c(\"Rtsne\", \"irlba\", \"umap\", \"sleepwalk\", \"readtext\")\n",
        "uninstalled_packages <- dependency_packages[!(dependency_packages %in% installed.packages()[,\"Package\"])]\n",
        "if(length(uninstalled_packages))\n",
        "  { \n",
        "  cat(sprintf(\"Need to install %d packages.\\n\", length(uninstalled_packages)))\n",
        "  install.packages(uninstalled_packages)\n",
        "  } else { \n",
        "    print(\"No packages need to be installed\", quote=FALSE)\n",
        "    }"
      ],
      "execution_count": 8,
      "outputs": [
        {
          "output_type": "stream",
          "text": [
            "[1] No packages need to be installed\n"
          ],
          "name": "stdout"
        }
      ]
    },
    {
      "cell_type": "code",
      "metadata": {
        "id": "feOgK8IvOUKB",
        "colab_type": "code",
        "colab": {
          "base_uri": "https://localhost:8080/",
          "height": 138
        },
        "outputId": "e8fd5d5e-d67f-4050-a529-06bbbba98641"
      },
      "source": [
        "install.packages(\"readtext\", verbose=TRUE)"
      ],
      "execution_count": 9,
      "outputs": [
        {
          "output_type": "stream",
          "text": [
            "Installing package into ‘/usr/local/lib/R/site-library’\n",
            "(as ‘lib’ is unspecified)\n",
            "system (cmd0): /usr/lib/R/bin/R CMD INSTALL\n",
            "foundpkgs: readtext, /tmp/RtmpTjeFeO/downloaded_packages/readtext_0.75.tar.gz\n",
            "files: /tmp/RtmpTjeFeO/downloaded_packages/readtext_0.75.tar.gz\n",
            "1): succeeded '/usr/lib/R/bin/R CMD INSTALL -l '/usr/local/lib/R/site-library' /tmp/RtmpTjeFeO/downloaded_packages/readtext_0.75.tar.gz'\n"
          ],
          "name": "stderr"
        }
      ]
    },
    {
      "cell_type": "code",
      "metadata": {
        "id": "8VlJ5pRsObS5",
        "colab_type": "code",
        "outputId": "448cf5c7-54eb-4332-e138-e4a86aa7e688",
        "colab": {
          "base_uri": "https://localhost:8080/",
          "height": 34
        }
      },
      "source": [
        "library( Rtsne )\n",
        "library( irlba )\n",
        "library( umap )\n",
        "library( sleepwalk ) "
      ],
      "execution_count": 10,
      "outputs": [
        {
          "output_type": "stream",
          "text": [
            "Loading required package: Matrix\n"
          ],
          "name": "stderr"
        }
      ]
    },
    {
      "cell_type": "markdown",
      "metadata": {
        "id": "yzCwl3V7TzxM",
        "colab_type": "text"
      },
      "source": [
        "### Download some test data\n",
        "\n",
        "From sleepwalk's [Demo1.R](https://github.com/anders-biostat/sleepwalk/blob/master/test/demo1.R):\n",
        "```\n",
        "# These two file can be downloaded from https://www.ncbi.nlm.nih.gov/geo/query/acc.cgi?acc=GSE100866\n",
        "countsRNA_filename <- \"~/Downloads/GSE100866_CBMC_8K_13AB_10X-RNA_umi.csv.gz\"\n",
        "countsADT_filename <- \"~/Downloads/GSE100866_CBMC_8K_13AB_10X-ADT_umi.csv.gz\"\n",
        "```\n",
        "So let's grab those from [NIH](https://www.ncbi.nlm.nih.gov/geo/query/acc.cgi?acc=GSE100866):"
      ]
    },
    {
      "cell_type": "code",
      "metadata": {
        "id": "mcsvE_bETmsa",
        "colab_type": "code",
        "colab": {}
      },
      "source": [
        "# /content/ is the default dir on Colab\n",
        "countsRNA_URL <- \"https://www.ncbi.nlm.nih.gov/geo/download/?acc=GSE100866&format=file&file=GSE100866%5FCBMC%5F8K%5F13AB%5F10X%2DRNA%5Fumi%2Ecsv%2Egz\"\n",
        "countsRNA_filename <- \"/content/GSE100866_CBMC_8K_13AB_10X-RNA_umi.csv.gz\"\n",
        "                  \n",
        "countsADT_URL <- \"https://www.ncbi.nlm.nih.gov/geo/download/?acc=GSE100866&format=file&file=GSE100866%5FCBMC%5F8K%5F13AB%5F10X%2DADT%5Fumi%2Ecsv%2Egz\"\n",
        "countsADT_filename <- \"/content/GSE100866_CBMC_8K_13AB_10X-ADT_umi.csv.gz\"\n",
        "\n",
        "download.file(countsRNA_URL, countsRNA_filename)\n",
        "download.file(countsADT_URL, countsADT_filename)"
      ],
      "execution_count": 0,
      "outputs": []
    },
    {
      "cell_type": "code",
      "metadata": {
        "id": "RQFElKBoFar2",
        "colab_type": "code",
        "colab": {
          "base_uri": "https://localhost:8080/",
          "height": 118
        },
        "outputId": "b05c5cc6-e529-479c-eb49-95f79b8f798a"
      },
      "source": [
        "# Check that we have files, especially files larger than zero bytes in size\n",
        "print(list.files(\"/content/\"))\n",
        "print(file.size(list.files(\"/content/\")))"
      ],
      "execution_count": 12,
      "outputs": [
        {
          "output_type": "stream",
          "text": [
            "[1] \"GSE100866_CBMC_8K_13AB_10X-ADT_umi.csv.gz\"\n",
            "[2] \"GSE100866_CBMC_8K_13AB_10X-RNA_umi.csv.gz\"\n",
            "[3] \"output_of_sleepwalk\"                      \n",
            "[4] \"output_of_sleepwalk.html\"                 \n",
            "[5] \"sample_data\"                              \n",
            "[1]   194394 14871517  3373114  3373114     4096\n"
          ],
          "name": "stdout"
        }
      ]
    },
    {
      "cell_type": "code",
      "metadata": {
        "id": "S_j6SraTU8I0",
        "colab_type": "code",
        "colab": {}
      },
      "source": [
        "# Load the file. (This takes a while as it is a large file.)\n",
        "countsRNA <- as.matrix( read.csv( gzfile( countsRNA_filename ), row.names = 1) )\n",
        "countsADT <- as.matrix( read.csv( gzfile( countsADT_filename ), row.names = 1) )\n"
      ],
      "execution_count": 0,
      "outputs": []
    },
    {
      "cell_type": "code",
      "metadata": {
        "id": "-RvdLVdbWA7s",
        "colab_type": "code",
        "outputId": "3db6ad79-3ded-48ad-c627-987fe75443c9",
        "colab": {
          "base_uri": "https://localhost:8080/",
          "height": 554
        }
      },
      "source": [
        "# Calculate for each cell ratio of molecules mapped to human genes\n",
        "# versus mapped to mouse genes\n",
        "human_mouse_ratio <- \n",
        "  colSums( countsRNA[ grepl( \"HUMAN\" , rownames(countsRNA) ), ] ) / \n",
        "  colSums( countsRNA[ grepl( \"MOUSE\" , rownames(countsRNA) ), ] )\n",
        "\n",
        "# JFT debugging\n",
        "cat(sprintf(\"countsRNA: %d\\n\" , length(countsRNA)))\n",
        "cat(sprintf(\"countsADT: %d\\n\" , length(countsADT)))\n",
        "cat(sprintf(\"# rownames: %d\\n\" , length(human_mouse_ratio)))\n",
        "\n",
        "\n",
        "# Keep only the cells with at least 10 times more human than mouse genes\n",
        "# and keep only the counts for the human genes.\n",
        "countsRNA <- countsRNA[ \n",
        "  grepl( \"HUMAN\" , rownames(countsRNA) ), \n",
        "  human_mouse_ratio > 10 ]\n",
        "\n",
        "# Remove the \"HUMAN_\" prefix from the gene names\n",
        "rownames(countsRNA) <- sub( \"HUMAN_\", \"\", rownames(countsRNA) )\n",
        "\n",
        "# JFT debugging\n",
        "cat(sprintf(\"# colnames: %d\\n\", length(colnames(rownames))))\n",
        "\n",
        "# Subset the ADT matrix to the same cells as in the RNA matrix\n",
        "countsADT <- countsADT[ , colnames(countsRNA) ]\n",
        "\n",
        "# Calculate size factors\n",
        "exprsRNA <- matrix( nrow = nrow(countsRNA), ncol = ncol(countsRNA), dimnames = dimnames(countsRNA) )\n",
        "for( j in seq.int( ncol(countsRNA) ) )\n",
        "  exprsRNA[,j] <- log2( 1 + countsRNA[,j] / sum(countsRNA[,j]) )\n",
        "\n",
        "# Run a PCA on the expression data\n",
        "pca <- prcomp_irlba( t(exprsRNA), n=50 )\n",
        "\n",
        "# Set the rownames manually (as IRLBA doesn't do that for us)\n",
        "rownames(pca$x) <- colnames(exprsRNA)\n",
        "rownames(pca$rotation) <- rownames(exprsRNA)\n",
        "\n",
        "# Run t-SNE on the data\n",
        "tsneRNA <- Rtsne( pca$x, pca=FALSE, verbose=TRUE )\n",
        "rownames(tsneRNA$Y) <- rownames(pca$x)"
      ],
      "execution_count": 14,
      "outputs": [
        {
          "output_type": "stream",
          "text": [
            "countsRNA: 312624760\n",
            "countsADT: 112021\n",
            "# rownames: 8617\n",
            "# colnames: 0\n",
            "Read the 8005 x 50 data matrix successfully!\n",
            "OpenMP is working. 1 threads.\n",
            "Using no_dims = 2, perplexity = 30.000000, and theta = 0.500000\n",
            "Computing input similarities...\n",
            "Building tree...\n",
            "Done in 3.22 seconds (sparsity = 0.017212)!\n",
            "Learning embedding...\n",
            "Iteration 50: error is 93.106630 (50 iterations in 2.59 seconds)\n",
            "Iteration 100: error is 82.007539 (50 iterations in 2.21 seconds)\n",
            "Iteration 150: error is 80.569511 (50 iterations in 1.68 seconds)\n",
            "Iteration 200: error is 80.192435 (50 iterations in 1.75 seconds)\n",
            "Iteration 250: error is 80.012220 (50 iterations in 1.80 seconds)\n",
            "Iteration 300: error is 3.093761 (50 iterations in 1.55 seconds)\n",
            "Iteration 350: error is 2.819440 (50 iterations in 1.40 seconds)\n",
            "Iteration 400: error is 2.670648 (50 iterations in 1.35 seconds)\n",
            "Iteration 450: error is 2.576804 (50 iterations in 1.34 seconds)\n",
            "Iteration 500: error is 2.511833 (50 iterations in 1.33 seconds)\n",
            "Iteration 550: error is 2.463161 (50 iterations in 1.35 seconds)\n",
            "Iteration 600: error is 2.426062 (50 iterations in 1.38 seconds)\n",
            "Iteration 650: error is 2.397794 (50 iterations in 1.34 seconds)\n",
            "Iteration 700: error is 2.377546 (50 iterations in 1.36 seconds)\n",
            "Iteration 750: error is 2.361513 (50 iterations in 1.36 seconds)\n",
            "Iteration 800: error is 2.347639 (50 iterations in 1.39 seconds)\n",
            "Iteration 850: error is 2.338612 (50 iterations in 1.34 seconds)\n",
            "Iteration 900: error is 2.332069 (50 iterations in 1.33 seconds)\n",
            "Iteration 950: error is 2.327021 (50 iterations in 1.35 seconds)\n",
            "Iteration 1000: error is 2.321961 (50 iterations in 1.34 seconds)\n",
            "Fitting performed in 30.54 seconds.\n"
          ],
          "name": "stdout"
        }
      ]
    },
    {
      "cell_type": "code",
      "metadata": {
        "id": "knu3m0h79Nkt",
        "colab_type": "code",
        "colab": {}
      },
      "source": [
        "\n",
        "# Explore the result with sleepwalk\n",
        "output_file_name <- \"/content/output_of_sleepwalk.html\"\n",
        "sleepwalk( tsneRNA$Y, pca$x, 0.07, saveToFile=output_file_name)\n"
      ],
      "execution_count": 0,
      "outputs": []
    },
    {
      "cell_type": "code",
      "metadata": {
        "id": "ASGp0-8wGR9K",
        "colab_type": "code",
        "colab": {
          "base_uri": "https://localhost:8080/",
          "height": 118
        },
        "outputId": "bc3f8c13-79fa-4776-b4f1-dde3f5969bb6"
      },
      "source": [
        "print(list.files(\"/content/\"))\n",
        "print(file.size(list.files(\"/content/\")))"
      ],
      "execution_count": 16,
      "outputs": [
        {
          "output_type": "stream",
          "text": [
            "[1] \"GSE100866_CBMC_8K_13AB_10X-ADT_umi.csv.gz\"\n",
            "[2] \"GSE100866_CBMC_8K_13AB_10X-RNA_umi.csv.gz\"\n",
            "[3] \"output_of_sleepwalk\"                      \n",
            "[4] \"output_of_sleepwalk.html\"                 \n",
            "[5] \"sample_data\"                              \n",
            "[1]   194394 14871517  3373114  3381270     4096\n"
          ],
          "name": "stdout"
        }
      ]
    },
    {
      "cell_type": "code",
      "metadata": {
        "id": "QNeEpjJkNiaW",
        "colab_type": "code",
        "colab": {}
      },
      "source": [
        "#print(readtext(output_file_name))\n",
        "file.show(output_file_name)\n"
      ],
      "execution_count": 0,
      "outputs": []
    },
    {
      "cell_type": "markdown",
      "metadata": {
        "id": "3q48jLd-iHSW",
        "colab_type": "text"
      },
      "source": [
        ""
      ]
    }
  ]
}