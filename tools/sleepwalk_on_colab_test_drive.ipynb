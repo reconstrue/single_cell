{
  "nbformat": 4,
  "nbformat_minor": 0,
  "metadata": {
    "kernelspec": {
      "display_name": "R",
      "language": "R",
      "name": "ir"
    },
    "language_info": {
      "codemirror_mode": "r",
      "file_extension": ".r",
      "mimetype": "text/x-r-source",
      "name": "R",
      "pygments_lexer": "r",
      "version": "3.3.1"
    },
    "colab": {
      "name": "sleepwalk_on_colab_test_drive.ipynb",
      "provenance": [],
      "collapsed_sections": []
    }
  },
  "cells": [
    {
      "cell_type": "markdown",
      "metadata": {
        "id": "Q4QQgonRP6rG",
        "colab_type": "text"
      },
      "source": [
        "# Sleepwalk on Colab test drive\n",
        "\n",
        "This notebook simply tests if Sleepwalk can be deployed on Colab, hopefully even viewing the dynamic output in Colab or as a fallback simply generate the web view statics pages and copy them to some storage."
      ]
    },
    {
      "cell_type": "markdown",
      "metadata": {
        "id": "6H27sl81NFZ0",
        "colab_type": "text"
      },
      "source": [
        "## Source\n",
        "Started from https://github.com/IRkernel/IRkernel/blob/master/example-notebooks/Demo.ipynb"
      ]
    },
    {
      "cell_type": "code",
      "metadata": {
        "id": "H7mWFUaNNLiV",
        "colab_type": "code",
        "colab": {
          "base_uri": "https://localhost:8080/",
          "height": 118
        },
        "outputId": "81c223fd-e038-4131-c9a7-f1f069ea86f3"
      },
      "source": [
        "if (!requireNamespace(\"BiocManager\", quietly = TRUE))\n",
        "    install.packages(\"BiocManager\")\n",
        "BiocManager::install()\n"
      ],
      "execution_count": 1,
      "outputs": [
        {
          "output_type": "stream",
          "text": [
            "Installing package into ‘/usr/local/lib/R/site-library’\n",
            "(as ‘lib’ is unspecified)\n",
            "Bioconductor version 3.10 (BiocManager 1.30.10), R 3.6.1 (2019-07-05)\n",
            "Installing package(s) 'BiocVersion'\n",
            "Old packages: 'digest', 'rlang', 'roxygen2', 'rprojroot', 'scales', 'selectr',\n",
            "  'tidyverse', 'xtable'\n"
          ],
          "name": "stderr"
        }
      ]
    },
    {
      "cell_type": "code",
      "metadata": {
        "id": "wSWFd-Z1NRwp",
        "colab_type": "code",
        "colab": {
          "base_uri": "https://localhost:8080/",
          "height": 773
        },
        "outputId": "5db54c98-4ced-4ddf-832a-617bab27fce7"
      },
      "source": [
        "BiocManager::valid()"
      ],
      "execution_count": 2,
      "outputs": [
        {
          "output_type": "stream",
          "text": [
            "Warning message:\n",
            "“8 packages out-of-date; 0 packages too new”"
          ],
          "name": "stderr"
        },
        {
          "output_type": "display_data",
          "data": {
            "text/plain": [
              "\n",
              "* sessionInfo()\n",
              "\n",
              "R version 3.6.1 (2019-07-05)\n",
              "Platform: x86_64-pc-linux-gnu (64-bit)\n",
              "Running under: Ubuntu 18.04.3 LTS\n",
              "\n",
              "Matrix products: default\n",
              "BLAS:   /usr/lib/x86_64-linux-gnu/openblas/libblas.so.3\n",
              "LAPACK: /usr/lib/x86_64-linux-gnu/libopenblasp-r0.2.20.so\n",
              "\n",
              "locale:\n",
              " [1] LC_CTYPE=en_US.UTF-8       LC_NUMERIC=C              \n",
              " [3] LC_TIME=en_US.UTF-8        LC_COLLATE=en_US.UTF-8    \n",
              " [5] LC_MONETARY=en_US.UTF-8    LC_MESSAGES=en_US.UTF-8   \n",
              " [7] LC_PAPER=en_US.UTF-8       LC_NAME=C                 \n",
              " [9] LC_ADDRESS=C               LC_TELEPHONE=C            \n",
              "[11] LC_MEASUREMENT=en_US.UTF-8 LC_IDENTIFICATION=C       \n",
              "\n",
              "attached base packages:\n",
              "[1] stats     graphics  grDevices utils     datasets  methods   base     \n",
              "\n",
              "loaded via a namespace (and not attached):\n",
              " [1] BiocManager_1.30.10 compiler_3.6.1      IRdisplay_0.7.0    \n",
              " [4] pbdZMQ_0.3-3        tools_3.6.1         htmltools_0.4.0    \n",
              " [7] pillar_1.4.2        base64enc_0.1-3     crayon_1.3.4       \n",
              "[10] Rcpp_1.0.3          uuid_0.1-2          IRkernel_1.0.2     \n",
              "[13] jsonlite_1.6        digest_0.6.22       repr_1.0.1         \n",
              "[16] rlang_0.4.1         evaluate_0.14      \n",
              "\n",
              "Bioconductor version '3.10'\n",
              "\n",
              "  * 8 packages out-of-date\n",
              "  * 0 packages too new\n",
              "\n",
              "create a valid installation with\n",
              "\n",
              "  BiocManager::install(c(\n",
              "    \"digest\", \"rlang\", \"roxygen2\", \"rprojroot\", \"scales\", \"selectr\",\n",
              "    \"tidyverse\", \"xtable\"\n",
              "  ), update = TRUE, ask = FALSE)\n",
              "\n",
              "more details: BiocManager::valid()$too_new, BiocManager::valid()$out_of_date\n"
            ]
          },
          "metadata": {
            "tags": []
          }
        }
      ]
    },
    {
      "cell_type": "markdown",
      "metadata": {
        "id": "QLAINH78Nc3u",
        "colab_type": "text"
      },
      "source": [
        "# Sleepwalk install\n",
        "\n",
        "https://anders-biostat.github.io/sleepwalk/"
      ]
    },
    {
      "cell_type": "code",
      "metadata": {
        "id": "iQ3SK_3JNbuB",
        "colab_type": "code",
        "colab": {
          "base_uri": "https://localhost:8080/",
          "height": 84
        },
        "outputId": "324ca05f-0e6e-411d-b45a-7beacb5ff65a"
      },
      "source": [
        "install.packages( \"sleepwalk\" )"
      ],
      "execution_count": 3,
      "outputs": [
        {
          "output_type": "stream",
          "text": [
            "Installing package into ‘/usr/local/lib/R/site-library’\n",
            "(as ‘lib’ is unspecified)\n",
            "also installing the dependencies ‘jrc’, ‘cowplot’\n",
            "\n"
          ],
          "name": "stderr"
        }
      ]
    },
    {
      "cell_type": "markdown",
      "metadata": {
        "id": "6OH3VQCZPmPQ",
        "colab_type": "text"
      },
      "source": [
        "## Test drive sleepwalk\n",
        "\n",
        "- https://raw.githubusercontent.com/anders-biostat/sleepwalk/master/test/demo1.R\n",
        "- https://cran.r-project.org/web/packages/Rtsne/index.html"
      ]
    },
    {
      "cell_type": "code",
      "metadata": {
        "id": "wS0zGGLoRs_p",
        "colab_type": "code",
        "colab": {
          "base_uri": "https://localhost:8080/",
          "height": 84
        },
        "outputId": "98ae7713-73af-4a10-cc12-d4564829c6bf"
      },
      "source": [
        "install.packages(c(\"Rtsne\", \"irlba\", \"umap\", \"sleepwalk\"))"
      ],
      "execution_count": 12,
      "outputs": [
        {
          "output_type": "stream",
          "text": [
            "Installing packages into ‘/usr/local/lib/R/site-library’\n",
            "(as ‘lib’ is unspecified)\n",
            "also installing the dependencies ‘RcppEigen’, ‘reticulate’, ‘RSpectra’\n",
            "\n"
          ],
          "name": "stderr"
        }
      ]
    },
    {
      "cell_type": "code",
      "metadata": {
        "id": "8VlJ5pRsObS5",
        "colab_type": "code",
        "colab": {}
      },
      "source": [
        "library( Rtsne )\n",
        "library( irlba )\n",
        "library( umap )\n",
        "library( sleepwalk ) "
      ],
      "execution_count": 0,
      "outputs": []
    },
    {
      "cell_type": "markdown",
      "metadata": {
        "id": "yzCwl3V7TzxM",
        "colab_type": "text"
      },
      "source": [
        "Demo1.R says:\n",
        "```\n",
        "# These two file can be downloaded from https://www.ncbi.nlm.nih.gov/geo/query/acc.cgi?acc=GSE100866\n",
        "countsRNA_filename <- \"~/Downloads/GSE100866_CBMC_8K_13AB_10X-RNA_umi.csv.gz\"\n",
        "countsADT_filename <- \"~/Downloads/GSE100866_CBMC_8K_13AB_10X-ADT_umi.csv.gz\"\n",
        "```"
      ]
    },
    {
      "cell_type": "code",
      "metadata": {
        "id": "mcsvE_bETmsa",
        "colab_type": "code",
        "colab": {
          "base_uri": "https://localhost:8080/",
          "height": 95
        },
        "outputId": "0a0a4593-3fe7-48a7-f042-4c2202d5f606"
      },
      "source": [
        "# /content/ is the default dir on Colab\n",
        "countsRNA_URL <- \"https://www.ncbi.nlm.nih.gov/geo/download/?acc=GSE100866&format=file&file=GSE100866%5FCBMC%5F8K%5F13AB%5F10X%2DADT%5Fclr%2Dtransformed%2Ecsv%2Egz\"\n",
        "countsRNA_filename <- \"/content/GSE100866_CBMC_8K_13AB_10X-RNA_umi.csv.gz\"\n",
        "\n",
        "countsADT_URL <- \"https://www.ncbi.nlm.nih.gov/geo/download/?acc=GSE100866&format=file&file=GSE100866%5FCBMC%5F8K%5F13AB%5F10X%2DADT%5Fumi%2Ecsv%2Egz\"\n",
        "countsADT_filename <- \"/content/GSE100866_CBMC_8K_13AB_10X-ADT_umi.csv.gz\"\n",
        "\n",
        "download.file(countsRNA_URL, countsRNA_filename)\n",
        "download.file(countsADT_URL, countsADT_filename)\n",
        "list.files(\"/content/\")"
      ],
      "execution_count": 26,
      "outputs": [
        {
          "output_type": "display_data",
          "data": {
            "text/plain": [
              "[1] \"GSE100866_CBMC_8K_13AB_10X-ADT_umi.csv.gz\"\n",
              "[2] \"GSE100866_CBMC_8K_13AB_10X-RNA_umi.csv.gz\"\n",
              "[3] \"sample_data\"                              "
            ],
            "text/latex": "\\begin{enumerate*}\n\\item 'GSE100866\\_CBMC\\_8K\\_13AB\\_10X-ADT\\_umi.csv.gz'\n\\item 'GSE100866\\_CBMC\\_8K\\_13AB\\_10X-RNA\\_umi.csv.gz'\n\\item 'sample\\_data'\n\\end{enumerate*}\n",
            "text/markdown": "1. 'GSE100866_CBMC_8K_13AB_10X-ADT_umi.csv.gz'\n2. 'GSE100866_CBMC_8K_13AB_10X-RNA_umi.csv.gz'\n3. 'sample_data'\n\n\n",
            "text/html": [
              "<ol class=list-inline>\n",
              "\t<li>'GSE100866_CBMC_8K_13AB_10X-ADT_umi.csv.gz'</li>\n",
              "\t<li>'GSE100866_CBMC_8K_13AB_10X-RNA_umi.csv.gz'</li>\n",
              "\t<li>'sample_data'</li>\n",
              "</ol>\n"
            ]
          },
          "metadata": {
            "tags": []
          }
        }
      ]
    },
    {
      "cell_type": "code",
      "metadata": {
        "id": "S_j6SraTU8I0",
        "colab_type": "code",
        "colab": {}
      },
      "source": [
        "# Load the file. (This takes a while as it is a large file.)\n",
        "countsRNA <- as.matrix( read.csv( gzfile( countsRNA_filename ), row.names = 1) )\n",
        "countsADT <- as.matrix( read.csv( gzfile( countsADT_filename ), row.names = 1) )\n"
      ],
      "execution_count": 0,
      "outputs": []
    },
    {
      "cell_type": "code",
      "metadata": {
        "id": "-RvdLVdbWA7s",
        "colab_type": "code",
        "colab": {
          "base_uri": "https://localhost:8080/",
          "height": 190
        },
        "outputId": "4e2ebe93-aebd-428d-ce58-f4b3dc404b6c"
      },
      "source": [
        "# Calculate for each cell ratio of molecules mapped to human genes\n",
        "# versus mapped to mouse genes\n",
        "human_mouse_ratio <- \n",
        "  colSums( countsRNA[ grepl( \"HUMAN\" , rownames(countsRNA) ), ] ) / \n",
        "  colSums( countsRNA[ grepl( \"MOUSE\" , rownames(countsRNA) ), ] )\n",
        "\n",
        "# Keep only the cells with at least 10 times more human than mouse genes\n",
        "# and keep only the counts for the human genes.\n",
        "countsRNA <- countsRNA[ \n",
        "  grepl( \"HUMAN\" , rownames(countsRNA) ), \n",
        "  human_mouse_ratio > 10 ]\n",
        "\n",
        "# Remove the \"HUMAN_\" prefix from the gene names\n",
        "rownames(countsRNA) <- sub( \"HUMAN_\", \"\", rownames(countsRNA) )\n",
        "\n",
        "\n",
        "print(colnames(rownames))\n",
        "\n",
        "\n",
        "\n",
        "\n",
        "\n",
        "# Subset the ADT matrix to the same cells as in the RNA matrix\n",
        "countsADT <- countsADT[ , colnames(countsRNA) ]\n",
        "\n",
        "\n",
        "# Calculate size factors\n",
        "exprsRNA <- matrix( nrow = nrow(countsRNA), ncol = ncol(countsRNA), dimnames = dimnames(countsRNA) )\n",
        "for( j in seq.int( ncol(countsRNA) ) )\n",
        "  exprsRNA[,j] <- log2( 1 + countsRNA[,j] / sum(countsRNA[,j]) )\n",
        "\n",
        "# Run a PCA on the expression data\n",
        "pca <- prcomp_irlba( t(exprsRNA), n=50 )\n",
        "\n",
        "# Set the rownames manually (as IRLBA doesn't do that for us)\n",
        "rownames(pca$x) <- colnames(exprsRNA)\n",
        "rownames(pca$rotation) <- rownames(exprsRNA)\n",
        "\n",
        "# Run t-SNE on the data\n",
        "tsneRNA <- Rtsne( pca$x, pca=FALSE, verbose=TRUE )\n",
        "rownames(tsneRNA$Y) <- rownames(pca$x)\n",
        "\n",
        "# Explore the result with sleepwalk\n",
        "sleepwalk( tsneRNA$Y, pca$x, 0.07 )\n"
      ],
      "execution_count": 25,
      "outputs": [
        {
          "output_type": "display_data",
          "data": {
            "text/plain": [
              "[1] \"GSE100866_CBMC_8K_13AB_10X-ADT_umi.csv.gz\"\n",
              "[2] \"GSE100866_CBMC_8K_13AB_10X-RNA_umi.csv.gz\"\n",
              "[3] \"sample_data\"                              "
            ],
            "text/latex": "\\begin{enumerate*}\n\\item 'GSE100866\\_CBMC\\_8K\\_13AB\\_10X-ADT\\_umi.csv.gz'\n\\item 'GSE100866\\_CBMC\\_8K\\_13AB\\_10X-RNA\\_umi.csv.gz'\n\\item 'sample\\_data'\n\\end{enumerate*}\n",
            "text/markdown": "1. 'GSE100866_CBMC_8K_13AB_10X-ADT_umi.csv.gz'\n2. 'GSE100866_CBMC_8K_13AB_10X-RNA_umi.csv.gz'\n3. 'sample_data'\n\n\n",
            "text/html": [
              "<ol class=list-inline>\n",
              "\t<li>'GSE100866_CBMC_8K_13AB_10X-ADT_umi.csv.gz'</li>\n",
              "\t<li>'GSE100866_CBMC_8K_13AB_10X-RNA_umi.csv.gz'</li>\n",
              "\t<li>'sample_data'</li>\n",
              "</ol>\n"
            ]
          },
          "metadata": {
            "tags": []
          }
        },
        {
          "output_type": "stream",
          "text": [
            "NULL\n"
          ],
          "name": "stdout"
        },
        {
          "output_type": "error",
          "ename": "ERROR",
          "evalue": "ignored",
          "traceback": [
            "Error in countsADT[, colnames(countsRNA)]: subscript out of bounds\nTraceback:\n"
          ]
        }
      ]
    }
  ]
}