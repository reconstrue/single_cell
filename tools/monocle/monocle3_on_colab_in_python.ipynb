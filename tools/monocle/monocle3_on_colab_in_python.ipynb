{
  "nbformat": 4,
  "nbformat_minor": 0,
  "metadata": {
    "colab": {
      "name": "monocle3_on_colab_in_python.ipynb",
      "provenance": [],
      "collapsed_sections": [],
      "toc_visible": true
    },
    "kernelspec": {
      "name": "python3",
      "display_name": "Python 3"
    }
  },
  "cells": [
    {
      "cell_type": "markdown",
      "metadata": {
        "id": "mnj7gkKmPa25",
        "colab_type": "text"
      },
      "source": [
        "# Monocle 3 on Colab in Pyton\n",
        "\n",
        "[![](https://reconstrue.github.io/single_cell_on_colab/monocle_cover_image.png)](https://cole-trapnell-lab.github.io/monocle3/)\n"
      ]
    },
    {
      "cell_type": "markdown",
      "metadata": {
        "id": "-F50HVGg01kM",
        "colab_type": "text"
      },
      "source": [
        "## Introduction\n",
        "\n",
        "This is a Python Jupyter notebook which uses [Monocle 3](https://cole-trapnell-lab.github.io/monocle3/) – which is R code – on Colab.\n",
        "\n",
        "Monocle is \"an analysis toolkit for single-cell RNA-seq.\" It is [MIT](https://github.com/cole-trapnell-lab/monocle3/blob/master/LICENSE.md) code out of Seattle's Seattle Lake Union area."
      ]
    },
    {
      "cell_type": "markdown",
      "metadata": {
        "id": "ZXbHP-0oOOb7",
        "colab_type": "text"
      },
      "source": [
        "## Legal\n",
        "\n",
        "This code is licensed under the Apache License, Version 2.0, which basically means you can do WHATEVER you want with it but don't come crying to me when someone gets an eye poked out. There are no commercial limitations stated.\n",
        "\n",
        "<img src=\"http://reconstrue.com/assets/images/reconstrue_combo_mark.svg\" width=\"200px\" align=\"left\"/>"
      ]
    },
    {
      "cell_type": "code",
      "metadata": {
        "id": "HuqJYEFGODYF",
        "colab_type": "code",
        "colab": {}
      },
      "source": [
        "# Copyright 2019-2020 Reconstrue LLC. All Rights Reserved.\n",
        "#\n",
        "# Licensed under the Apache License, Version 2.0 (the \"License\");\n",
        "# you may not use this file except in compliance with the License.\n",
        "# You may obtain a copy of the License at\n",
        "#\n",
        "#     http://www.apache.org/licenses/LICENSE-2.0\n",
        "#\n",
        "# Unless required by applicable law or agreed to in writing, software\n",
        "# distributed under the License is distributed on an \"AS IS\" BASIS,\n",
        "# WITHOUT WARRANTIES OR CONDITIONS OF ANY KIND, either express or implied.\n",
        "# See the License for the specific language governing permissions and\n",
        "# limitations under the License.\n",
        "# =============================================================================="
      ],
      "execution_count": 0,
      "outputs": []
    },
    {
      "cell_type": "markdown",
      "metadata": {
        "id": "zLjUa8D_lSsK",
        "colab_type": "text"
      },
      "source": [
        "## Motivation\n",
        "\n",
        "As of this writing (early 2020) Colab has vastly supperior support for Python UI, compared to R. So, best if the Jupyter notebooks developed for deployment on Colab are Python, not R. Yet Python can call into R functions, so a mixed Python&R experience can be achieved (hopefully).\n",
        "\n",
        "Reconstrue is also interested in software involving developers located around Seattle's Lake Union simply because face-to-face meetings can be easily arranged and biked to.\n"
      ]
    },
    {
      "cell_type": "markdown",
      "metadata": {
        "id": "-Y1tKjPPD6mu",
        "colab_type": "text"
      },
      "source": [
        "## Install Monocle 3\n",
        "\n",
        "One of the nice features of Colab (Colab is essentially just Google hosting Jupyter notebooks for free) is that for Python the vast majority of any packages one would use is pre-installed making for very quick initialization. Currently this is very much not the case for R as we will see shortly; the installs are slow and annoying, c'est la vie but another detail that makes R on Colab nowhere near as cool as Python on Colab. This is a real drag given the frequent disconnects upon idle, as well as the hard 12 hour limit imposed on Colab.\n"
      ]
    },
    {
      "cell_type": "markdown",
      "metadata": {
        "id": "f-n6SJj9D-Bh",
        "colab_type": "text"
      },
      "source": [
        "### System Configuration\n",
        "The Monocle folks did nice work making it easy to install Monocle, as documented in [Installing Monocle 3](https://cole-trapnell-lab.github.io/monocle3/docs/installation/). Nonetheless, on Colab the following rigmarole needs to happen before installing Monocle, otherwise various support libraries (e.g. units) will fail to install.\n",
        "\n",
        "While hacking to get Monocle 3 running on Colab, various dependency libraries did not install without a fight. Again, while hacking it was discovered that [others have had similar issues](https://github.com/datacarpentry/r-raster-vector-geospatial/issues/138#issue-313014296) (these are R-on-Colab issues, not Monocle 3 issues) and the solution seems to be:\n",
        "```\n",
        "!apt-get -qq install -y libudunits2-dev libgdal-dev libgeos-dev libproj-dev \n",
        "```\n",
        "But unfortuneately, IRkernel does not seem to handle !magics so `apt-get` has to be invoked via an R system() call. \n",
        "\n",
        "**Note:** this next cell can take some minutes; feel free to remove the `suppressMessages()` wrappers if you're into very long status messages, which nonetheless can serve as a sort of progress indicator."
      ]
    }
  ]
}