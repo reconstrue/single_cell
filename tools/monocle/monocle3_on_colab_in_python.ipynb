{
  "nbformat": 4,
  "nbformat_minor": 0,
  "metadata": {
    "colab": {
      "name": "monocle3_on_colab_in_python.ipynb",
      "provenance": [],
      "collapsed_sections": []
    },
    "kernelspec": {
      "name": "python3",
      "display_name": "Python 3"
    }
  },
  "cells": [
    {
      "cell_type": "markdown",
      "metadata": {
        "id": "mnj7gkKmPa25",
        "colab_type": "text"
      },
      "source": [
        "# Monocle 3 on Colab in Pyton\n",
        "\n",
        "[![](https://reconstrue.github.io/single_cell_on_colab/monocle_cover_image.png)](https://cole-trapnell-lab.github.io/monocle3/)\n"
      ]
    },
    {
      "cell_type": "markdown",
      "metadata": {
        "id": "-F50HVGg01kM",
        "colab_type": "text"
      },
      "source": [
        "## Introduction\n",
        "\n",
        "This is a Python Jupyter notebook which uses Monocle 3 – which is R code – on Colab.\n"
      ]
    },
    {
      "cell_type": "markdown",
      "metadata": {
        "id": "ZXbHP-0oOOb7",
        "colab_type": "text"
      },
      "source": [
        "## Legal\n",
        "\n",
        "This code is licensed under the Apache License, Version 2.0, which basically means you can do WHATEVER you want with it but don't come crying to me when someone gets an eye poked out. There are no commercial limitations stated.\n",
        "\n",
        "<img src=\"http://reconstrue.com/assets/images/reconstrue_combo_mark.svg\" width=\"200px\" align=\"left\"/>"
      ]
    },
    {
      "cell_type": "code",
      "metadata": {
        "id": "HuqJYEFGODYF",
        "colab_type": "code",
        "colab": {}
      },
      "source": [
        "# Copyright 2019-2020 Reconstrue LLC. All Rights Reserved.\n",
        "#\n",
        "# Licensed under the Apache License, Version 2.0 (the \"License\");\n",
        "# you may not use this file except in compliance with the License.\n",
        "# You may obtain a copy of the License at\n",
        "#\n",
        "#     http://www.apache.org/licenses/LICENSE-2.0\n",
        "#\n",
        "# Unless required by applicable law or agreed to in writing, software\n",
        "# distributed under the License is distributed on an \"AS IS\" BASIS,\n",
        "# WITHOUT WARRANTIES OR CONDITIONS OF ANY KIND, either express or implied.\n",
        "# See the License for the specific language governing permissions and\n",
        "# limitations under the License.\n",
        "# =============================================================================="
      ],
      "execution_count": 0,
      "outputs": []
    }
  ]
}