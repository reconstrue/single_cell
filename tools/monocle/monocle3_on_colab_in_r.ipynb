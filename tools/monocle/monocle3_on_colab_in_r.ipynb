{
  "nbformat": 4,
  "nbformat_minor": 0,
  "metadata": {
    "colab": {
      "name": "monocle3_on_colab_in_r.ipynb",
      "provenance": [],
      "collapsed_sections": [],
      "toc_visible": true
    },
    "language_info": {
      "codemirror_mode": "r",
      "file_extension": ".r",
      "mimetype": "text/x-r-source",
      "name": "R",
      "pygments_lexer": "r",
      "version": "3.3.1"
    },
    "kernelspec": {
      "display_name": "R",
      "language": "R",
      "name": "ir"
    }
  },
  "cells": [
    {
      "cell_type": "markdown",
      "metadata": {
        "id": "LMbZw7QooEBI",
        "colab_type": "text"
      },
      "source": [
        "# Monocle 3 on Colab in R\n",
        "\n",
        "[![](https://reconstrue.github.io/single_cell_on_colab/monocle_cover_image.png)](https://cole-trapnell-lab.github.io/monocle3/)\n",
        "\n",
        "\n",
        "This code can be found on GitHub in the repo, [@reconstrue/single_cell_on_colab](https://github.com/reconstrue/single_cell_on_colab/tree/master/tools/monocle), where there is also a companion notebook, [monocle3_on_colab_in_python.ipynb](https://github.com/reconstrue/single_cell_on_colab/tree/master/tools/monocle/monocle3_on_colab_in_python.ipynb). That does the same as this notebook but has a better UI experience, on Colab.\n"
      ]
    },
    {
      "cell_type": "markdown",
      "metadata": {
        "id": "DVxk3ON3J7Gy",
        "colab_type": "text"
      },
      "source": [
        "## Introduction\n",
        "\n",
        "[Monocle 3](https://cole-trapnell-lab.github.io/monocle3/) is \"an analysis toolkit for single-cell RNA-seq.\" It is [MIT](https://github.com/cole-trapnell-lab/monocle3/blob/master/LICENSE.md) code out of Seattle's Seattle Lake Union area.\n",
        "\n",
        "This R Jupyter notebook started as simply tests to see if [Monocle 3](https://cole-trapnell-lab.github.io/monocle3/) could be deployed and exercised on Colab. It can, mostly; more on that below. "
      ]
    },
    {
      "cell_type": "markdown",
      "metadata": {
        "id": "UlP0mghsF_Hx",
        "colab_type": "text"
      },
      "source": [
        "## Legal\n",
        "\n",
        "This code is licensed under the Apache License, Version 2.0. This basically means you can do WHATEVER you want with it but don't come crying to me when someone gets an eye poked out.\n",
        "\n",
        "<img src=\"http://reconstrue.com/assets/images/reconstrue_combo_mark.svg\" width=\"200px\" align=\"left\"/>"
      ]
    },
    {
      "cell_type": "code",
      "metadata": {
        "id": "XeBTVFW1JG1c",
        "colab_type": "code",
        "colab": {}
      },
      "source": [
        "# Copyright 2019-2020 Reconstrue LLC. All Rights Reserved.\n",
        "#\n",
        "# Licensed under the Apache License, Version 2.0 (the \"License\");\n",
        "# you may not use this file except in compliance with the License.\n",
        "# You may obtain a copy of the License at\n",
        "#\n",
        "#     http://www.apache.org/licenses/LICENSE-2.0\n",
        "#\n",
        "# Unless required by applicable law or agreed to in writing, software\n",
        "# distributed under the License is distributed on an \"AS IS\" BASIS,\n",
        "# WITHOUT WARRANTIES OR CONDITIONS OF ANY KIND, either express or implied.\n",
        "# See the License for the specific language governing permissions and\n",
        "# limitations under the License.\n",
        "# =============================================================================="
      ],
      "execution_count": 0,
      "outputs": []
    },
    {
      "cell_type": "markdown",
      "metadata": {
        "id": "3BUe0-XIJweq",
        "colab_type": "text"
      },
      "source": [
        "## Results\n",
        "This experiment went surprising well. The one big problem that needs to be solved is that there is a bit of UI that seems to be made for RStudio but which has not been made to work on Colab. (The author of this notebook is not an experience R developer.) \n",
        "\n",
        "Specifically, this limitation relates to selecting a subset of a scatter plat; seemingly R interactive code has not been fully worked out on Colab. If this one small-ish issue were solved, then there would be an example Jupyter notebook which shows folks how to deploy Monocle 3 on Colab. \n"
      ]
    },
    {
      "cell_type": "markdown",
      "metadata": {
        "id": "CCjaGrDHAZUL",
        "colab_type": "text"
      },
      "source": [
        "## R on Colab\n",
        "Monocle 3 is written in R. Turns out Colab can run R notebooks, although this is not widely known because as of now (2019-11-20) R is not an officially supported language on Colab (and it show; more on that below).\n",
        "\n",
        "On 2019-06-18 JFT found IRkernel's Demo.html via [stackoverflow: How to use R with Google Colaboratory?](https://stackoverflow.com/a/54595286). I.e starting from a demo page ([Demo.ipynb](https://github.com/IRkernel/IRkernel/blob/master/example-notebooks/Demo.ipynb)) of IRkernel which is [MIT licensed](https://github.com/IRkernel/IRkernel/blob/master/DESCRIPTION#L20) this page was built out on Colab. \n",
        "\n",
        "The core point is to start with Demo.ipynb because is has the JSON metadata to specify that the notebook is designed for an R kernel, and Colab will provide:\n",
        "```\n",
        "{\n",
        "  \"nbformat\": 4,\n",
        "  \"nbformat_minor\": 0,\n",
        "  \"metadata\": {\n",
        "    \"language_info\": {\n",
        "      \"codemirror_mode\": \"r\",\n",
        "      \"file_extension\": \".r\",\n",
        "      \"mimetype\": \"text/x-r-source\",\n",
        "      \"name\": \"R\",\n",
        "      \"pygments_lexer\": \"r\",\n",
        "      \"version\": \"3.3.1\"\n",
        "    },\n",
        "    \"kernelspec\": {\n",
        "      \"display_name\": \"R\",\n",
        "      \"language\": \"R\",\n",
        "      \"name\": \"ir\"\n",
        "    }\n",
        "  }...\n",
        "```"
      ]
    },
    {
      "cell_type": "markdown",
      "metadata": {
        "id": "qLa6Er34LCql",
        "colab_type": "text"
      },
      "source": [
        "## Install Monocle 3\n",
        "\n",
        "One of the nice features of Colab (Colab is essentially just Google hosting Jupyter notebooks for free) is that for Python the vast majority of any packages one would use is pre-installed making for very quick initialization. Currently this is very much not the case for R as we will see shortly; the installs are slow and annoying, c'est la vie but another detail that makes R on Colab nowhere near as cool as Python on Colab. This is a real drag given the frequent disconnects upon idle, as well as the hard 12 hour limit imposed on Colab.\n"
      ]
    },
    {
      "cell_type": "markdown",
      "metadata": {
        "id": "uMcjAJGVwTlq",
        "colab_type": "text"
      },
      "source": [
        "### System Configuration\n",
        "The Monocle folks did nice work making it easy to install Monocle, as documented in [Installing Monocle 3](https://cole-trapnell-lab.github.io/monocle3/docs/installation/). Nonetheless, on Colab the following rigmarole needs to happen before installing Monocle, otherwise various support libraries (e.g. units) will fail to install.\n",
        "\n",
        "While hacking to get Monocle 3 running on Colab, various dependency libraries did not install without a fight. Again, while hacking it was discovered that [others have had similar issues](https://github.com/datacarpentry/r-raster-vector-geospatial/issues/138#issue-313014296) (these are R-on-Colab issues, not Monocle 3 issues) and the solution seems to be:\n",
        "```\n",
        "!apt-get -qq install -y libudunits2-dev libgdal-dev libgeos-dev libproj-dev \n",
        "```\n",
        "But unfortuneately, IRkernel does not seem to handle !magics so `apt-get` has to be invoked via an R system() call. \n",
        "\n",
        "**Note:** this next cell can take some minutes; feel free to remove the `suppressMessages()` wrappers if you're into very long status messages, which nonetheless can serve as a sort of progress indicator."
      ]
    },
    {
      "cell_type": "code",
      "metadata": {
        "id": "KWyaAIF_MGYt",
        "colab_type": "code",
        "outputId": "2611e753-be20-4c16-bb16-627ffd86adb1",
        "colab": {
          "base_uri": "https://localhost:8080/",
          "height": 17
        }
      },
      "source": [
        "# https://mothergeo-py.readthedocs.io/en/latest/development/how-to/gdal-ubuntu-pkg.html#before-you-begin-python-3-6\n",
        "suppressMessages(system(\"apt-get install python3.6-dev\"))\n",
        "\n",
        "# Need to add this repo, otherwise libgdal-dev will cause apt-get to return 100 b/c of a 404. See:\n",
        "# https://mothergeo-py.readthedocs.io/en/latest/development/how-to/gdal-ubuntu-pkg.html#install-gdal-ogr\n",
        "# https://github.com/datacarpentry/r-raster-vector-geospatial/issues/138#issue-313014296\n",
        "\n",
        "suppressMessages(system(\"add-apt-repository ppa:ubuntugis/ppa\"))\n",
        "suppressMessages(system(\"apt-get -qq update\"))\n",
        "suppressMessages(system(\"apt-get -qq -y install --fix-missing libudunits2-dev python-gdal gdal-bin libgdal-dev\", intern=TRUE))\n",
        "suppressMessages(system(\"apt-get -qq -y install --fix-missing libudunits2-dev python-gdal gdal-bin libgdal-dev\", intern=TRUE))"
      ],
      "execution_count": 13,
      "outputs": [
        {
          "output_type": "display_data",
          "data": {
            "text/plain": [
              "character(0)"
            ],
            "text/latex": "",
            "text/markdown": "",
            "text/html": [
              ""
            ]
          },
          "metadata": {
            "tags": []
          }
        },
        {
          "output_type": "display_data",
          "data": {
            "text/plain": [
              "character(0)"
            ],
            "text/latex": "",
            "text/markdown": "",
            "text/html": [
              ""
            ]
          },
          "metadata": {
            "tags": []
          }
        }
      ]
    },
    {
      "cell_type": "markdown",
      "metadata": {
        "id": "J1_mvFSTyxzn",
        "colab_type": "text"
      },
      "source": [
        "### Stock Installation\n",
        "\n",
        "The stock Monocle 3 install instructions begin with installing Bioconductor."
      ]
    },
    {
      "cell_type": "code",
      "metadata": {
        "id": "w7LZ8_QgAnHt",
        "colab_type": "code",
        "outputId": "e3e4a545-72f9-46b0-f6a3-202bf205b27f",
        "colab": {
          "base_uri": "https://localhost:8080/",
          "height": 204
        }
      },
      "source": [
        "if (!requireNamespace(\"BiocManager\", quietly = TRUE))\n",
        "    install.packages(\"BiocManager\")\n",
        "BiocManager::install()\n",
        "# BiocManager::valid()\n"
      ],
      "execution_count": 3,
      "outputs": [
        {
          "output_type": "stream",
          "text": [
            "Installing package into ‘/usr/local/lib/R/site-library’\n",
            "(as ‘lib’ is unspecified)\n",
            "\n",
            "Bioconductor version 3.10 (BiocManager 1.30.10), R 3.6.2 (2019-12-12)\n",
            "\n",
            "Installing package(s) 'BiocVersion'\n",
            "\n",
            "Old packages: 'callr', 'curl', 'devtools', 'digest', 'DT', 'farver',\n",
            "  'jsonlite', 'knitr', 'mime', 'processx', 'ps', 'remotes', 'rprojroot',\n",
            "  'rstudioapi', 'stringi', 'svglite', 'xfun', 'xtable', 'lattice', 'nlme'\n",
            "\n"
          ],
          "name": "stderr"
        }
      ]
    },
    {
      "cell_type": "markdown",
      "metadata": {
        "id": "kTmsH2XGy9tI",
        "colab_type": "text"
      },
      "source": [
        "The second step in the stock install instructions is to actually install Monocle 3. For whatever reason, Bioconductor needs to be explicitly told to install 8 packages that are needed.\n",
        "\n",
        "This install is long and has no progress indicator."
      ]
    },
    {
      "cell_type": "code",
      "metadata": {
        "id": "Yhma4zEkNvDi",
        "colab_type": "code",
        "outputId": "292ad471-0a0d-48f8-9704-15c0788a77f8",
        "colab": {
          "base_uri": "https://localhost:8080/",
          "height": 224
        }
      },
      "source": [
        "# Test one at a time to find the problem\n",
        "\n",
        "# [X]: \"Boibase\"\n",
        "# [X]: \"DelayedArray\"\n",
        "# [X]: \"DelayedMatrixStats\"\n",
        "# [X]: \"limma\"\n",
        "# [X]: \"S4Vectors\"\n",
        "# [ ]: \"SingleCellExperiment\"\n",
        "# [ ]: \"SummarizedExperiment\"))\n",
        "\n",
        "options(install.packages.check.source = \"yes\")\n",
        "# Problem child: BiocManager::install(c(\"SingleCellExperiment\"))\n",
        "BiocManager::install(c(\"GenomicRanges\"))"
      ],
      "execution_count": 4,
      "outputs": [
        {
          "output_type": "stream",
          "text": [
            "Bioconductor version 3.10 (BiocManager 1.30.10), R 3.6.2 (2019-12-12)\n",
            "\n",
            "Installing package(s) 'GenomicRanges'\n",
            "\n",
            "also installing the dependencies ‘bitops’, ‘RCurl’, ‘GenomeInfoDbData’, ‘zlibbioc’, ‘BiocGenerics’, ‘S4Vectors’, ‘IRanges’, ‘GenomeInfoDb’, ‘XVector’\n",
            "\n",
            "\n",
            "Old packages: 'callr', 'curl', 'devtools', 'digest', 'DT', 'farver',\n",
            "  'jsonlite', 'knitr', 'mime', 'processx', 'ps', 'remotes', 'rprojroot',\n",
            "  'rstudioapi', 'stringi', 'svglite', 'xfun', 'xtable', 'lattice', 'nlme'\n",
            "\n"
          ],
          "name": "stderr"
        }
      ]
    },
    {
      "cell_type": "code",
      "metadata": {
        "id": "ntjtODJdzsSv",
        "colab_type": "code",
        "outputId": "b548c983-cb3e-46db-a005-8c36781f04d9",
        "colab": {
          "base_uri": "https://localhost:8080/",
          "height": 241
        }
      },
      "source": [
        "# Issue, devtools::install_github('cole-trapnell-lab/monocle3') will report:\n",
        "#   Skipping 8 packages not available: Biobase, BiocGenerics, DelayedArray, DelayedMatrixStats, limma, S4Vectors, SingleCellExperiment, SummarizedExperiment\n",
        "# So, explicitly installing these seemed to help:\n",
        "\n",
        "BiocManager::install(c(\"Biobase\", \"DelayedArray\", \"DelayedMatrixStats\", \"limma\", \"S4Vectors\", \"SingleCellExperiment\", \"SummarizedExperiment\"))"
      ],
      "execution_count": 5,
      "outputs": [
        {
          "output_type": "stream",
          "text": [
            "Bioconductor version 3.10 (BiocManager 1.30.10), R 3.6.2 (2019-12-12)\n",
            "\n",
            "Installing package(s) 'Biobase', 'DelayedArray', 'DelayedMatrixStats', 'limma',\n",
            "  'S4Vectors', 'SingleCellExperiment', 'SummarizedExperiment'\n",
            "\n",
            "also installing the dependencies ‘formatR’, ‘lambda.r’, ‘futile.options’, ‘futile.logger’, ‘snow’, ‘rhdf5’, ‘Rhdf5lib’, ‘matrixStats’, ‘BiocParallel’, ‘HDF5Array’\n",
            "\n",
            "\n",
            "Old packages: 'callr', 'curl', 'devtools', 'digest', 'DT', 'farver',\n",
            "  'jsonlite', 'knitr', 'mime', 'processx', 'ps', 'remotes', 'rprojroot',\n",
            "  'rstudioapi', 'stringi', 'svglite', 'xfun', 'xtable', 'lattice', 'nlme'\n",
            "\n"
          ],
          "name": "stderr"
        }
      ]
    },
    {
      "cell_type": "code",
      "metadata": {
        "id": "7kGTjd420lnN",
        "colab_type": "code",
        "outputId": "be0727d1-8f0b-4038-c3ec-069560784fa0",
        "colab": {
          "base_uri": "https://localhost:8080/",
          "height": 224
        }
      },
      "source": [
        "# TODO: note this is repeated later. This is here just for isolated testing.\n",
        "BiocManager::install(\"batchelor\")"
      ],
      "execution_count": 6,
      "outputs": [
        {
          "output_type": "stream",
          "text": [
            "Bioconductor version 3.10 (BiocManager 1.30.10), R 3.6.2 (2019-12-12)\n",
            "\n",
            "Installing package(s) 'batchelor'\n",
            "\n",
            "also installing the dependencies ‘beeswarm’, ‘vipor’, ‘gridExtra’, ‘RcppAnnoy’, ‘RcppHNSW’, ‘irlba’, ‘rsvd’, ‘ggbeeswarm’, ‘viridis’, ‘BiocNeighbors’, ‘BiocSingular’, ‘scater’, ‘beachmat’\n",
            "\n",
            "\n",
            "Old packages: 'callr', 'curl', 'devtools', 'digest', 'DT', 'farver',\n",
            "  'jsonlite', 'knitr', 'mime', 'processx', 'ps', 'remotes', 'rprojroot',\n",
            "  'rstudioapi', 'stringi', 'svglite', 'xfun', 'xtable', 'lattice', 'nlme'\n",
            "\n"
          ],
          "name": "stderr"
        }
      ]
    },
    {
      "cell_type": "markdown",
      "metadata": {
        "id": "4bvyXIfhzer_",
        "colab_type": "text"
      },
      "source": [
        "Back to stock install step 2:"
      ]
    },
    {
      "cell_type": "code",
      "metadata": {
        "id": "cacmXTCiA3dw",
        "colab_type": "code",
        "outputId": "a21edf56-f1d7-4bbc-aa38-edcb4816f259",
        "colab": {
          "base_uri": "https://localhost:8080/",
          "height": 1000
        }
      },
      "source": [
        "devtools::install_github('cole-trapnell-lab/monocle3')\n"
      ],
      "execution_count": 7,
      "outputs": [
        {
          "output_type": "stream",
          "text": [
            "Downloading GitHub repo cole-trapnell-lab/monocle3@master\n",
            "\n"
          ],
          "name": "stderr"
        },
        {
          "output_type": "stream",
          "text": [
            "leidenbase   (NA     -> c22a7d01f...) [GitHub]\n",
            "ggrepel      (NA     -> 0.8.1       ) [CRAN]\n",
            "grr          (NA     -> 0.9.5       ) [CRAN]\n",
            "igraph       (NA     -> 1.2.4.2     ) [CRAN]\n",
            "lmtest       (NA     -> 0.9-37      ) [CRAN]\n",
            "pbapply      (NA     -> 1.4-2       ) [CRAN]\n",
            "pbmcapply    (NA     -> 1.5.0       ) [CRAN]\n",
            "pheatmap     (NA     -> 1.0.12      ) [CRAN]\n",
            "plotly       (NA     -> 4.9.2       ) [CRAN]\n",
            "proxy        (NA     -> 0.4-23      ) [CRAN]\n",
            "pscl         (NA     -> 1.5.2       ) [CRAN]\n",
            "RANN         (NA     -> 2.6.1       ) [CRAN]\n",
            "rsample      (NA     -> 0.0.5       ) [CRAN]\n",
            "RhpcBLASctl  (NA     -> 0.20-17     ) [CRAN]\n",
            "Rtsne        (NA     -> 0.15        ) [CRAN]\n",
            "slam         (NA     -> 0.1-47      ) [CRAN]\n",
            "spdep        (NA     -> 1.1-3       ) [CRAN]\n",
            "speedglm     (NA     -> 0.3-2       ) [CRAN]\n",
            "uwot         (NA     -> 0.1.5       ) [CRAN]\n",
            "digest       (0.6.23 -> 0.6.24      ) [CRAN]\n",
            "zoo          (NA     -> 1.8-7       ) [CRAN]\n",
            "jsonlite     (1.6    -> 1.6.1       ) [CRAN]\n",
            "hexbin       (NA     -> 1.28.1      ) [CRAN]\n",
            "data.table   (NA     -> 1.12.8      ) [CRAN]\n",
            "furrr        (NA     -> 0.1.0       ) [CRAN]\n",
            "mime         (0.8    -> 0.9         ) [CRAN]\n",
            "xtable       (1.8-3  -> 1.8-4       ) [CRAN]\n",
            "sp           (NA     -> 1.3-2       ) [CRAN]\n",
            "spData       (NA     -> 0.3.3       ) [CRAN]\n",
            "sf           (NA     -> 0.8-1       ) [CRAN]\n",
            "deldir       (NA     -> 0.1-25      ) [CRAN]\n",
            "LearnBayes   (NA     -> 2.15.1      ) [CRAN]\n",
            "coda         (NA     -> 0.19-3      ) [CRAN]\n",
            "expm         (NA     -> 0.999-4     ) [CRAN]\n",
            "gmodels      (NA     -> 2.18.1      ) [CRAN]\n",
            "stringi      (1.4.5  -> 1.4.6       ) [CRAN]\n",
            "FNN          (NA     -> 1.1.3       ) [CRAN]\n",
            "RSpectra     (NA     -> 0.16-0      ) [CRAN]\n",
            "RcppParallel (NA     -> 4.4.4       ) [CRAN]\n",
            "RcppProgress (NA     -> 0.4.2       ) [CRAN]\n",
            "dqrng        (NA     -> 0.2.1       ) [CRAN]\n",
            "farver       (2.0.1  -> 2.0.3       ) [CRAN]\n",
            "curl         (4.2    -> 4.3         ) [CRAN]\n",
            "future       (NA     -> 1.16.0      ) [CRAN]\n",
            "globals      (NA     -> 0.12.5      ) [CRAN]\n",
            "listenv      (NA     -> 0.8.0       ) [CRAN]\n",
            "raster       (NA     -> 3.0-12      ) [CRAN]\n",
            "classInt     (NA     -> 0.4-2       ) [CRAN]\n",
            "units        (NA     -> 0.6-5       ) [CRAN]\n",
            "e1071        (NA     -> 1.7-3       ) [CRAN]\n",
            "gdata        (NA     -> 2.18.0      ) [CRAN]\n",
            "gtools       (NA     -> 3.8.1       ) [CRAN]\n",
            "RcppEigen    (NA     -> 0.3.3.7.0   ) [CRAN]\n",
            "sitmo        (NA     -> 2.0.1       ) [CRAN]\n"
          ],
          "name": "stdout"
        },
        {
          "output_type": "stream",
          "text": [
            "Skipping 10 packages not available: Biobase, SingleCellExperiment, batchelor, BiocGenerics, DelayedArray, DelayedMatrixStats, limma, Matrix.utils, S4Vectors, SummarizedExperiment\n",
            "\n",
            "Downloading GitHub repo cole-trapnell-lab/leidenbase@master\n",
            "\n"
          ],
          "name": "stderr"
        },
        {
          "output_type": "stream",
          "text": [
            "igraph (NA -> 1.2.4.2) [CRAN]\n"
          ],
          "name": "stdout"
        },
        {
          "output_type": "stream",
          "text": [
            "Installing 1 packages: igraph\n",
            "\n",
            "Installing package into ‘/usr/local/lib/R/site-library’\n",
            "(as ‘lib’ is unspecified)\n",
            "\n"
          ],
          "name": "stderr"
        },
        {
          "output_type": "stream",
          "text": [
            "\u001b[32m✔\u001b[39m  \u001b[90mchecking for file ‘/tmp/Rtmp02vLl7/remotes7b79b6c298/cole-trapnell-lab-leidenbase-c22a7d0/DESCRIPTION’\u001b[39m\u001b[36m\u001b[39m\n",
            "\u001b[90m─\u001b[39m\u001b[90m  \u001b[39m\u001b[90mpreparing ‘leidenbase’:\u001b[39m\u001b[36m\u001b[39m\n",
            "\u001b[32m✔\u001b[39m  \u001b[90mchecking DESCRIPTION meta-information\u001b[39m\u001b[36m\u001b[39m\n",
            "\u001b[90m─\u001b[39m\u001b[90m  \u001b[39m\u001b[90mcleaning src\u001b[39m\u001b[36m\u001b[39m\n",
            "\u001b[90m─\u001b[39m\u001b[90m  \u001b[39m\u001b[90mchecking for LF line-endings in source and make files and shell scripts\u001b[39m\u001b[36m\u001b[39m\n",
            "\u001b[90m─\u001b[39m\u001b[90m  \u001b[39m\u001b[90mchecking for empty or unneeded directories\u001b[39m\u001b[36m\u001b[36m (591ms)\u001b[36m\u001b[39m\n",
            "\u001b[90m─\u001b[39m\u001b[90m  \u001b[39m\u001b[90mbuilding ‘leidenbase_0.1.0.tar.gz’\u001b[39m\u001b[36m\u001b[39m\n",
            "   \n"
          ],
          "name": "stdout"
        },
        {
          "output_type": "stream",
          "text": [
            "Installing package into ‘/usr/local/lib/R/site-library’\n",
            "(as ‘lib’ is unspecified)\n",
            "\n",
            "Installing 54 packages: ggrepel, grr, igraph, lmtest, Matrix.utils, pbapply, pbmcapply, pheatmap, plotly, proxy, pscl, RANN, rsample, RhpcBLASctl, Rtsne, slam, spdep, speedglm, uwot, digest, zoo, jsonlite, hexbin, data.table, furrr, mime, xtable, sp, spData, sf, deldir, LearnBayes, coda, expm, gmodels, stringi, FNN, RSpectra, RcppParallel, RcppProgress, dqrng, farver, curl, future, globals, listenv, raster, classInt, units, e1071, gdata, gtools, RcppEigen, sitmo\n",
            "\n",
            "Installing packages into ‘/usr/local/lib/R/site-library’\n",
            "(as ‘lib’ is unspecified)\n",
            "\n"
          ],
          "name": "stderr"
        },
        {
          "output_type": "error",
          "ename": "ERROR",
          "evalue": "ignored",
          "traceback": [
            "Error: Failed to install 'monocle3' from GitHub:\n  (converted from warning) package ‘Matrix.utils’ is not available (for R version 3.6.2)\nTraceback:\n",
            "1. devtools::install_github(\"cole-trapnell-lab/monocle3\")",
            "2. pkgbuild::with_build_tools({\n .     ellipsis::check_dots_used(action = getOption(\"devtools.ellipsis_action\", \n .         rlang::warn))\n .     {\n .         remotes <- lapply(repo, github_remote, ref = ref, subdir = subdir, \n .             auth_token = auth_token, host = host)\n .         install_remotes(remotes, auth_token = auth_token, host = host, \n .             dependencies = dependencies, upgrade = upgrade, force = force, \n .             quiet = quiet, build = build, build_opts = build_opts, \n .             build_manual = build_manual, build_vignettes = build_vignettes, \n .             repos = repos, type = type, ...)\n .     }\n . }, required = FALSE)",
            "3. install_remotes(remotes, auth_token = auth_token, host = host, \n .     dependencies = dependencies, upgrade = upgrade, force = force, \n .     quiet = quiet, build = build, build_opts = build_opts, build_manual = build_manual, \n .     build_vignettes = build_vignettes, repos = repos, type = type, \n .     ...)",
            "4. tryCatch(res[[i]] <- install_remote(remotes[[i]], ...), error = function(e) {\n .     stop(remote_install_error(remotes[[i]], e))\n . })",
            "5. tryCatchList(expr, classes, parentenv, handlers)",
            "6. tryCatchOne(expr, names, parentenv, handlers[[1L]])",
            "7. value[[3L]](cond)"
          ]
        }
      ]
    },
    {
      "cell_type": "code",
      "metadata": {
        "id": "Yx3QMrqhbx6J",
        "colab_type": "code",
        "outputId": "b492ec82-1a51-4f65-9315-8caf2c77638e",
        "colab": {
          "base_uri": "https://localhost:8080/",
          "height": 130
        }
      },
      "source": [
        "# The following is the recommended way to test an install of Monocle 3.\n",
        "# It should dump out a bunch or config stats\n",
        "\n",
        "# TODO: Those verbose messages are obviously being suppressed for brevity\n",
        "# remove the suppressMessages() wrapper to debug, if things go awry\n",
        "library(monocle3)"
      ],
      "execution_count": 9,
      "outputs": [
        {
          "output_type": "error",
          "ename": "ERROR",
          "evalue": "ignored",
          "traceback": [
            "Error in library(monocle3): there is no package called ‘monocle3’\nTraceback:\n",
            "1. library(monocle3)"
          ]
        }
      ]
    },
    {
      "cell_type": "markdown",
      "metadata": {
        "id": "9gASiNxsHmP2",
        "colab_type": "text"
      },
      "source": [
        "And that's it. Their set up is simple, after tackling some Colab specific annoyances. Install is slow on Colab but c'est la vie. With more experience perhaps there is a way to streamline this (the author is not an experienced R developer).\n",
        "\n"
      ]
    },
    {
      "cell_type": "markdown",
      "metadata": {
        "id": "Y3j_Qj_tzh6C",
        "colab_type": "text"
      },
      "source": [
        "## Exercise Monocle 3\n",
        "\n",
        "Hannah Pliner, one of [the two core devs of Monocle 3](https://github.com/cole-trapnell-lab/monocle3/graphs/contributors), gave presentations on Monocle 3 at [Brotman Baty Institute's Single Cell Symposium](https://brotmanbaty.org/event/single-cell-symposium/). Her [tutorial content](http://staff.washington.edu/hpliner/) is on-line, which includes some test data and [an R script for doing the basics with Monocle 3](http://staff.washington.edu/hpliner/scripts/20190603_tutorial_script.R). The data is from C. elegans data from [Cao & Packer et al. 2017](https://science.sciencemag.org/content/357/6352/661) as explained in [the Monocle 3 docs](https://cole-trapnell-lab.github.io/monocle3/monocle3_docs/#clustering-and-classifying-your-cells).\n",
        "\n",
        "Here, Pliner's script is copied with minimal modification to get things going on Colab, including breaking it out into multiple code cells."
      ]
    },
    {
      "cell_type": "code",
      "metadata": {
        "id": "5lwDpNWK7YGH",
        "colab_type": "code",
        "colab": {}
      },
      "source": [
        "# Load up Pliner's test data\n",
        "expression_matrix <- readRDS(url(\"http://staff.washington.edu/hpliner/data/cao_l2_expression.rds\"))\n",
        "cell_metadata <- readRDS(url(\"http://staff.washington.edu/hpliner/data/cao_l2_colData.rds\"))\n",
        "gene_annotation <- readRDS(url(\"http://staff.washington.edu/hpliner/data/cao_l2_rowData.rds\"))\n",
        "\n",
        "cds <- new_cell_data_set(expression_matrix,\n",
        "                         cell_metadata = cell_metadata,\n",
        "                         gene_metadata = gene_annotation)"
      ],
      "execution_count": 0,
      "outputs": []
    },
    {
      "cell_type": "code",
      "metadata": {
        "id": "BLdvsEdsMR87",
        "colab_type": "code",
        "colab": {}
      },
      "source": [
        "# Test out the accessor functions:\n",
        "colData(cds)\n",
        "\n",
        "rowData(cds)\n",
        "\n",
        "head(counts(cds))\n",
        "\n"
      ],
      "execution_count": 0,
      "outputs": []
    },
    {
      "cell_type": "code",
      "metadata": {
        "id": "n_ZCzZZQMXVp",
        "colab_type": "code",
        "colab": {}
      },
      "source": [
        "# Preprocess the cds - in default mode, this function normalizes the\n",
        "# data and runs PCA\n",
        "cds <- preprocess_cds(cds, num_dim = 100)\n",
        "\n",
        "# Run UMAP to get a low dimension representation, and plot\n",
        "cds <- reduce_dimension(cds)\n",
        "plot_cells(cds)\n",
        "\n"
      ],
      "execution_count": 0,
      "outputs": []
    },
    {
      "cell_type": "code",
      "metadata": {
        "id": "eLr562nxNOzO",
        "colab_type": "code",
        "colab": {}
      },
      "source": [
        "# Cluster cells and view the clusters and partitions (super-clusters)\n",
        "cds <- cluster_cells(cds)\n",
        "head(partitions(cds, reduction_method = \"UMAP\"))\n",
        "head(clusters(cds, reduction_method = \"UMAP\"))\n",
        "\n",
        "plot_cells(cds, color_cells_by=\"partition\", group_cells_by=\"partition\")\n"
      ],
      "execution_count": 0,
      "outputs": []
    },
    {
      "cell_type": "code",
      "metadata": {
        "id": "iCKZDeec3KpC",
        "colab_type": "code",
        "colab": {}
      },
      "source": [
        "plot_cells(cds, color_cells_by=\"cluster\", group_cells_by=\"cluster\")"
      ],
      "execution_count": 0,
      "outputs": []
    },
    {
      "cell_type": "code",
      "metadata": {
        "id": "036VD3zKOkcZ",
        "colab_type": "code",
        "colab": {}
      },
      "source": [
        "# Subset cells interactively\n",
        "\n",
        "# Original code, which errors on Colab I guess that the script \n",
        "# was build for RStudio or such, not for Jupyter widgetery.\n",
        "#   Error: choose_cells only works in interactive mode.\n",
        "# cds_subset <- choose_cells(cds)\n",
        "\n",
        "# This hack just bypassing the subsetting, making the rest of this notebook\n",
        "# not so interesting, but we're just testing if the code runs on Colab, and it does.\n",
        "cds_subset <- cds\n"
      ],
      "execution_count": 0,
      "outputs": []
    },
    {
      "cell_type": "code",
      "metadata": {
        "id": "ydob_d3bCcWq",
        "colab_type": "code",
        "colab": {}
      },
      "source": [
        "# Compare genes across chosen clusters (first 100 genes for speed)\n",
        "gene_fits <- fit_models(cds_subset[1:100,], model_formula_str = \"~cluster\")\n",
        "fit_coefs <- coefficient_table(gene_fits)\n",
        "head(fit_coefs)\n",
        "\n",
        "# Find top marker genes for each cluster\n",
        "marker_genes <- top_markers(cds[1:1000,], genes_to_test_per_group = 3)\n",
        "head(marker_genes)\n",
        "\n",
        "tops_sig <- subset(marker_genes, marker_test_q_value < .05)\n",
        "\n",
        "plot_cells(cds_subset, genes=gene_cluster_df, show_trajectory_graph=F, color_by=\"cell.type\")\n",
        "\n",
        "\n",
        "generate_garnett_marker_file(marker_genes)\n"
      ],
      "execution_count": 0,
      "outputs": []
    },
    {
      "cell_type": "markdown",
      "metadata": {
        "id": "bnnN1XwDWDws",
        "colab_type": "text"
      },
      "source": [
        "## Next\n",
        "\n",
        "OK stopping here, the goal was to see if Monocle 3 can be deployed on Colab. Mostly, yes.\n",
        "\n",
        "Next step would seem to be \n",
        "- Solve the problem around `choose_cells()`\n",
        "- Use Monocle on data from the wild, rather than prepackaged test data in *.rds files"
      ]
    }
  ]
}